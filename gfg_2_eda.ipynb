{
 "cells": [
  {
   "cell_type": "code",
   "execution_count": 14,
   "metadata": {},
   "outputs": [],
   "source": [
    "import numpy as np\n",
    "import pandas as pd\n",
    "import matplotlib.pyplot as plt\n",
    "import string\n",
    "import re\n",
    "%matplotlib inline"
   ]
  },
  {
   "cell_type": "markdown",
   "metadata": {},
   "source": [
    "# Top-Level Comments"
   ]
  },
  {
   "cell_type": "code",
   "execution_count": 15,
   "metadata": {},
   "outputs": [],
   "source": [
    "df = pd.read_csv('data/askreddit_top_50.csv')"
   ]
  },
  {
   "cell_type": "code",
   "execution_count": 16,
   "metadata": {},
   "outputs": [
    {
     "data": {
      "text/html": [
       "<div>\n",
       "<style scoped>\n",
       "    .dataframe tbody tr th:only-of-type {\n",
       "        vertical-align: middle;\n",
       "    }\n",
       "\n",
       "    .dataframe tbody tr th {\n",
       "        vertical-align: top;\n",
       "    }\n",
       "\n",
       "    .dataframe thead th {\n",
       "        text-align: right;\n",
       "    }\n",
       "</style>\n",
       "<table border=\"1\" class=\"dataframe\">\n",
       "  <thead>\n",
       "    <tr style=\"text-align: right;\">\n",
       "      <th></th>\n",
       "      <th>id</th>\n",
       "      <th>parent_id</th>\n",
       "      <th>link_id</th>\n",
       "      <th>gilded</th>\n",
       "      <th>author</th>\n",
       "      <th>created</th>\n",
       "      <th>is_submitter</th>\n",
       "      <th>permalink</th>\n",
       "      <th>score</th>\n",
       "      <th>body</th>\n",
       "      <th>question</th>\n",
       "      <th>target</th>\n",
       "    </tr>\n",
       "  </thead>\n",
       "  <tbody>\n",
       "    <tr>\n",
       "      <th>0</th>\n",
       "      <td>ed1czme</td>\n",
       "      <td>t3_ablzuq</td>\n",
       "      <td>t3_ablzuq</td>\n",
       "      <td>0</td>\n",
       "      <td>sweatybeard</td>\n",
       "      <td>2019-01-01 15:35:24</td>\n",
       "      <td>False</td>\n",
       "      <td>/r/AskReddit/comments/ablzuq/people_who_havent...</td>\n",
       "      <td>12169</td>\n",
       "      <td>But when I finally do, it'll be the years bigg...</td>\n",
       "      <td>People who haven't pooped in 2019 yet, why are...</td>\n",
       "      <td>0</td>\n",
       "    </tr>\n",
       "    <tr>\n",
       "      <th>1</th>\n",
       "      <td>ed1d2z7</td>\n",
       "      <td>t3_ablzuq</td>\n",
       "      <td>t3_ablzuq</td>\n",
       "      <td>1</td>\n",
       "      <td>ButtholeLinoleum</td>\n",
       "      <td>2019-01-01 15:36:36</td>\n",
       "      <td>False</td>\n",
       "      <td>/r/AskReddit/comments/ablzuq/people_who_havent...</td>\n",
       "      <td>14259</td>\n",
       "      <td>I've been pissing out my ass all fuckin day.</td>\n",
       "      <td>People who haven't pooped in 2019 yet, why are...</td>\n",
       "      <td>1</td>\n",
       "    </tr>\n",
       "    <tr>\n",
       "      <th>2</th>\n",
       "      <td>ed1emmi</td>\n",
       "      <td>t3_ablzuq</td>\n",
       "      <td>t3_ablzuq</td>\n",
       "      <td>0</td>\n",
       "      <td>abksploder</td>\n",
       "      <td>2019-01-01 15:56:33</td>\n",
       "      <td>False</td>\n",
       "      <td>/r/AskReddit/comments/ablzuq/people_who_havent...</td>\n",
       "      <td>34844</td>\n",
       "      <td>Bold of you to assume I'm going to take a shit...</td>\n",
       "      <td>People who haven't pooped in 2019 yet, why are...</td>\n",
       "      <td>0</td>\n",
       "    </tr>\n",
       "    <tr>\n",
       "      <th>3</th>\n",
       "      <td>ed1dhh6</td>\n",
       "      <td>t3_ablzuq</td>\n",
       "      <td>t3_ablzuq</td>\n",
       "      <td>0</td>\n",
       "      <td>adsadsadsadsads</td>\n",
       "      <td>2019-01-01 15:41:49</td>\n",
       "      <td>False</td>\n",
       "      <td>/r/AskReddit/comments/ablzuq/people_who_havent...</td>\n",
       "      <td>19268</td>\n",
       "      <td>We have guests and I literally can't relax.</td>\n",
       "      <td>People who haven't pooped in 2019 yet, why are...</td>\n",
       "      <td>0</td>\n",
       "    </tr>\n",
       "    <tr>\n",
       "      <th>4</th>\n",
       "      <td>ed1dqvy</td>\n",
       "      <td>t3_ablzuq</td>\n",
       "      <td>t3_ablzuq</td>\n",
       "      <td>2</td>\n",
       "      <td>KixStar</td>\n",
       "      <td>2019-01-01 15:45:09</td>\n",
       "      <td>False</td>\n",
       "      <td>/r/AskReddit/comments/ablzuq/people_who_havent...</td>\n",
       "      <td>35941</td>\n",
       "      <td>I caught a diarrhea stomach bug and have been ...</td>\n",
       "      <td>People who haven't pooped in 2019 yet, why are...</td>\n",
       "      <td>1</td>\n",
       "    </tr>\n",
       "  </tbody>\n",
       "</table>\n",
       "</div>"
      ],
      "text/plain": [
       "        id  parent_id    link_id  gilded            author  \\\n",
       "0  ed1czme  t3_ablzuq  t3_ablzuq       0       sweatybeard   \n",
       "1  ed1d2z7  t3_ablzuq  t3_ablzuq       1  ButtholeLinoleum   \n",
       "2  ed1emmi  t3_ablzuq  t3_ablzuq       0        abksploder   \n",
       "3  ed1dhh6  t3_ablzuq  t3_ablzuq       0   adsadsadsadsads   \n",
       "4  ed1dqvy  t3_ablzuq  t3_ablzuq       2           KixStar   \n",
       "\n",
       "               created  is_submitter  \\\n",
       "0  2019-01-01 15:35:24         False   \n",
       "1  2019-01-01 15:36:36         False   \n",
       "2  2019-01-01 15:56:33         False   \n",
       "3  2019-01-01 15:41:49         False   \n",
       "4  2019-01-01 15:45:09         False   \n",
       "\n",
       "                                           permalink  score  \\\n",
       "0  /r/AskReddit/comments/ablzuq/people_who_havent...  12169   \n",
       "1  /r/AskReddit/comments/ablzuq/people_who_havent...  14259   \n",
       "2  /r/AskReddit/comments/ablzuq/people_who_havent...  34844   \n",
       "3  /r/AskReddit/comments/ablzuq/people_who_havent...  19268   \n",
       "4  /r/AskReddit/comments/ablzuq/people_who_havent...  35941   \n",
       "\n",
       "                                                body  \\\n",
       "0  But when I finally do, it'll be the years bigg...   \n",
       "1       I've been pissing out my ass all fuckin day.   \n",
       "2  Bold of you to assume I'm going to take a shit...   \n",
       "3        We have guests and I literally can't relax.   \n",
       "4  I caught a diarrhea stomach bug and have been ...   \n",
       "\n",
       "                                            question  target  \n",
       "0  People who haven't pooped in 2019 yet, why are...       0  \n",
       "1  People who haven't pooped in 2019 yet, why are...       1  \n",
       "2  People who haven't pooped in 2019 yet, why are...       0  \n",
       "3  People who haven't pooped in 2019 yet, why are...       0  \n",
       "4  People who haven't pooped in 2019 yet, why are...       1  "
      ]
     },
     "execution_count": 16,
     "metadata": {},
     "output_type": "execute_result"
    }
   ],
   "source": [
    "df.head()"
   ]
  },
  {
   "cell_type": "code",
   "execution_count": 17,
   "metadata": {},
   "outputs": [
    {
     "data": {
      "text/plain": [
       "id              0\n",
       "parent_id       0\n",
       "link_id         0\n",
       "gilded          0\n",
       "author          0\n",
       "created         0\n",
       "is_submitter    0\n",
       "permalink       0\n",
       "score           0\n",
       "body            0\n",
       "question        0\n",
       "target          0\n",
       "dtype: int64"
      ]
     },
     "execution_count": 17,
     "metadata": {},
     "output_type": "execute_result"
    }
   ],
   "source": [
    "df.isnull().sum()"
   ]
  },
  {
   "cell_type": "code",
   "execution_count": 18,
   "metadata": {},
   "outputs": [
    {
     "data": {
      "text/html": [
       "<div>\n",
       "<style scoped>\n",
       "    .dataframe tbody tr th:only-of-type {\n",
       "        vertical-align: middle;\n",
       "    }\n",
       "\n",
       "    .dataframe tbody tr th {\n",
       "        vertical-align: top;\n",
       "    }\n",
       "\n",
       "    .dataframe thead th {\n",
       "        text-align: right;\n",
       "    }\n",
       "</style>\n",
       "<table border=\"1\" class=\"dataframe\">\n",
       "  <thead>\n",
       "    <tr style=\"text-align: right;\">\n",
       "      <th></th>\n",
       "      <th>id</th>\n",
       "      <th>parent_id</th>\n",
       "      <th>link_id</th>\n",
       "      <th>gilded</th>\n",
       "      <th>author</th>\n",
       "      <th>created</th>\n",
       "      <th>is_submitter</th>\n",
       "      <th>permalink</th>\n",
       "      <th>score</th>\n",
       "      <th>body</th>\n",
       "      <th>question</th>\n",
       "      <th>target</th>\n",
       "    </tr>\n",
       "  </thead>\n",
       "  <tbody>\n",
       "  </tbody>\n",
       "</table>\n",
       "</div>"
      ],
      "text/plain": [
       "Empty DataFrame\n",
       "Columns: [id, parent_id, link_id, gilded, author, created, is_submitter, permalink, score, body, question, target]\n",
       "Index: []"
      ]
     },
     "execution_count": 18,
     "metadata": {},
     "output_type": "execute_result"
    }
   ],
   "source": [
    "df[df.duplicated()]"
   ]
  },
  {
   "cell_type": "code",
   "execution_count": 19,
   "metadata": {},
   "outputs": [
    {
     "name": "stderr",
     "output_type": "stream",
     "text": [
      "//anaconda3/lib/python3.7/site-packages/numpy/core/fromnumeric.py:56: FutureWarning: \n",
      "The current behaviour of 'Series.argmax' is deprecated, use 'idxmax'\n",
      "instead.\n",
      "The behavior of 'argmax' will be corrected to return the positional\n",
      "maximum in the future. For now, use 'series.values.argmax' or\n",
      "'np.argmax(np.array(values))' to get the position of the maximum\n",
      "row.\n",
      "  return getattr(obj, method)(*args, **kwds)\n"
     ]
    },
    {
     "data": {
      "text/plain": [
       "2278"
      ]
     },
     "execution_count": 19,
     "metadata": {},
     "output_type": "execute_result"
    }
   ],
   "source": [
    "np.argmax(df['gilded'])"
   ]
  },
  {
   "cell_type": "code",
   "execution_count": 20,
   "metadata": {},
   "outputs": [
    {
     "data": {
      "text/plain": [
       "23"
      ]
     },
     "execution_count": 20,
     "metadata": {},
     "output_type": "execute_result"
    }
   ],
   "source": [
    "df['gilded'][2278]"
   ]
  },
  {
   "cell_type": "code",
   "execution_count": 21,
   "metadata": {},
   "outputs": [
    {
     "data": {
      "text/plain": [
       "gilded\n",
       "0     4543\n",
       "1      359\n",
       "2       58\n",
       "3       17\n",
       "4        7\n",
       "5        5\n",
       "6        3\n",
       "7        3\n",
       "12       1\n",
       "15       1\n",
       "16       1\n",
       "20       1\n",
       "23       1\n",
       "Name: id, dtype: int64"
      ]
     },
     "execution_count": 21,
     "metadata": {},
     "output_type": "execute_result"
    }
   ],
   "source": [
    "df.groupby('gilded')['id'].count()"
   ]
  },
  {
   "cell_type": "code",
   "execution_count": 22,
   "metadata": {},
   "outputs": [
    {
     "name": "stdout",
     "output_type": "stream",
     "text": [
      "People who haven't pooped in 2019 yet, why are you still holding on to last years shit?\n",
      "Stan Lee has passed away at 95 years old\n",
      "Reddit, how would you feel about a law that bans radio stations from playing commercials with honking/beeping/siren noises in them?\n",
      "Without saying what the category is, what are your top five?\n",
      "Anthony Bourdain once said \"There's a guy in my head, and all he wants to do is lay in bed all day long, smoke pot, and watch old movies and cartoons. My life is a series of strategems, to avoid, and outwit that guy\". Who is \"that guy\" for you, and what do you do to avoid him?\n",
      "With all of the negative headlines dominating the news these days, it can be difficult to spot signs of progress. What makes you optimistic about the future?\n",
      "[Serious] Americans, would you be in support of putting a law in place that government officials, such as senators and the president, go without pay during shutdowns like this while other federal employees do? Why, or why not?\n",
      "Iceland just announced that every Icelander over the age of 18 automatically become organ donors with ability to opt out. How do you feel about this?\n",
      "How would you feel about a law that requires people over the age of 70 to pass a specialized driving test in order to continue driving?\n",
      "Professor Stephen Hawking has passed away at the age of 76\n",
      "The 2010's decade will be over in 4 months. What do you think people will remember this decade for?\n",
      "You have just been cheated out of $1000 for a stupid brick. How do you take revenge?\n",
      "You gain control of JK Rowling's twitter account for a day. What unnecessary piece of information do you add to Harry Potter lore?\n",
      "Suicide Prevention Megathread\n",
      "What’s something small you can start doing today to better yourself?\n",
      "What mind-blowing (but simple) facts would satisfy a 4-year old daughter’s daily request for 1 fact before bedtime?\n",
      "People who downloaded their Google data and went through it, what were the most unsettling things you found out they had stored about you?\n",
      "Admins of Reddit, what's your favorite subreddit?\n",
      "What do you think is the single greatest photograph in history?\n",
      "Do you ever look at yourself one day and think you are hot as shit, but the next day comes and you've become Quasimodo. Why do you think this happens?\n",
      "When you're lying in bed at night, do you ever randomly remember some relatively minor social missteps or poorly chosen words you did/said years earlier? And then beat yourself up over it even though it really wasn't a big deal? If so, what happened?\n",
      "What are some slang terms a 50 year old dad can say to his daughter to embarrass her?\n",
      "[Breaking News] Orlando Nightclub mass-shooting.\n",
      "What looks easy peasy lemon squeezy but is actually difficult difficult lemon difficult?\n",
      "What do you think buzzfeed employees worked on while reddit was down yesterday?\n",
      "Have you ever felt you don't know/have forgotten who you really are? That you've spent years just adapting to surroundings to make life easier and don't know what's the real you anymore? If so, how did you overcome this?\n",
      "The words 'Low Battery' appear right before your eyes, you take off your VR headset and realized your whole life was just a VR simulation which you've been playing for only a few minutes. How do you react?\n",
      "Proposed Alabama law would require residents to pass drug tests to get food stamps. What do you guys think of this?\n",
      "What if you suddenly feel a touch on the shoulder following with the words: \"are you sleeping during my class?\". You open your eyes and you are at your 7th grade math class, all of the life leading up to this point was just a dream and you are a 7th grader. What are your thoughts?\n",
      "Redditors who have tried to hide on your cruise when it ended so that you could stay on the ship for the next round, how did that go?\n",
      "Have you ever woke up in the middle of a dream and the dream was so interesting that you wanted to go back to sleep to see the end of it? If so, what was the dream?\n",
      "Teachers of Reddit, what are some positive trends you have noticed in today's youth?\n",
      "In a video game, if you come across an empty room with a health pack, extra ammo, and a save point, you know some serious shit is about to go down. What is the real-life equivalent of this?\n",
      "What's the best kept secret on the Internet?\n",
      "What are the best free online certificates you can complete that will actually look good on a resume?\n",
      "What are some \"guy secrets\" girls don't know about?\n",
      "If HBO's Chernobyl was a series with a new disaster every season, what event would you like to see covered?\n",
      "What's some juicy gossip you just found out in your personal lives?\n",
      "How would you feel about a law requiring parents that receive child support to supply the court with proof of how the child support money is being spent?\n",
      "What are some declassified government documents that are surprisingly terrifying?\n",
      "If they made a show called \"White Mirror\" that was about all the positive aspects of the human/technology relationship, what would be the plot of certain episodes?\n",
      "What is the scariest story you know that is 100% true?\n",
      "Would you support a mandatory environmental service for adults 18 - 30 ? Kind of like military service but instead of fighting you must spend a few months on reforestation projects or ocean cleanup ? Why or why not ?\n",
      "You have been accepted for an experiment: you must stay in a room with nothing but bed/toilet/food/water and no human contact for one month. If you succeed for the whole month without giving up, you get $5,000,000. Do you accept? And what are your coping strategies to avoid mental breakdown?\n",
      "Men with an anime girl as your profile picture, why?\n",
      "You are offered $1,000,000 USD if you can hide a pair of car keys from the entirety of the FBI force for 7 days. Where do you hide the keys?\n",
      "What’s the most amazing thing about the universe?\n",
      "Which conspiracy theory is so believable that it might be true?\n",
      "What free software is so good you can't believe it's available for free?\n",
      "Children of \" I want to talk to your manager\" parents, what has been your most embarassing experience?\n"
     ]
    }
   ],
   "source": [
    "for question in df['question'].unique():\n",
    "    print(question)"
   ]
  },
  {
   "cell_type": "markdown",
   "metadata": {},
   "source": [
    "## Exploring the minority class"
   ]
  },
  {
   "cell_type": "code",
   "execution_count": 43,
   "metadata": {},
   "outputs": [],
   "source": [
    "import nltk\n",
    "import string\n",
    "from scipy import stats\n",
    "\n",
    "def tokenize(text):\n",
    "    stem = nltk.stem.SnowballStemmer('english')\n",
    "    text = text.lower()\n",
    "\n",
    "    for token in nltk.word_tokenize(text):\n",
    "        if token in string.punctuation: continue\n",
    "        return stem.stem(token)\n",
    "    \n",
    "def simplify_text(article):\n",
    "    clean1 = re.sub(r'['+string.punctuation + '’—”'+']', \"\", article.lower())\n",
    "    return re.sub(r'\\W+', ' ', clean1)\n"
   ]
  },
  {
   "cell_type": "code",
   "execution_count": 26,
   "metadata": {},
   "outputs": [],
   "source": [
    "# Create dataframe containing only gilded comments\n",
    "df_gilded = df[df.target == 1]"
   ]
  },
  {
   "cell_type": "code",
   "execution_count": 27,
   "metadata": {},
   "outputs": [],
   "source": [
    "from nltk import FreqDist\n",
    "\n",
    "golds = df_gilded['body'].tolist()\n",
    "gold_corpus = [tokenize(doc) for doc in golds]\n",
    "fdist = FreqDist(gold_corpus)"
   ]
  },
  {
   "cell_type": "code",
   "execution_count": 33,
   "metadata": {},
   "outputs": [
    {
     "data": {
      "image/png": "[encoded data removed]",
      "text/plain": [
       "<Figure size 432x288 with 1 Axes>"
      ]
     },
     "metadata": {
      "needs_background": "light"
     },
     "output_type": "display_data"
    },
    {
     "data": {
      "text/plain": [
       "<matplotlib.axes._subplots.AxesSubplot at 0x1a1a529c88>"
      ]
     },
     "execution_count": 33,
     "metadata": {},
     "output_type": "execute_result"
    }
   ],
   "source": [
    "# Plotting the most frequent words in gilded comments\n",
    "fdist.plot(25)"
   ]
  },
  {
   "cell_type": "code",
   "execution_count": 35,
   "metadata": {},
   "outputs": [
    {
     "name": "stdout",
     "output_type": "stream",
     "text": [
      "Word Counts (All Comments)\n",
      "Mean:  58.6956 Min:  1 Max:  1449\n"
     ]
    }
   ],
   "source": [
    "# Creating word count columns\n",
    "\n",
    "df['simplebody'] = df['body'].map(lambda x: simplify_text(x))\n",
    "df['num_wds'] = df['simplebody'].apply(lambda x: len(x.split()))\n",
    "print(\"Word Counts (All Comments)\")\n",
    "print(\"Mean: \", df['num_wds'].mean(), \"Min: \", df['num_wds'].min(), \"Max: \", df['num_wds'].max())"
   ]
  },
  {
   "cell_type": "code",
   "execution_count": 36,
   "metadata": {},
   "outputs": [
    {
     "name": "stdout",
     "output_type": "stream",
     "text": [
      "Word Counts (Gilded Comments)\n",
      "Mean:  89.31947483588621 Min:  1 Max:  1449\n"
     ]
    },
    {
     "name": "stderr",
     "output_type": "stream",
     "text": [
      "//anaconda3/lib/python3.7/site-packages/ipykernel_launcher.py:1: SettingWithCopyWarning: \n",
      "A value is trying to be set on a copy of a slice from a DataFrame.\n",
      "Try using .loc[row_indexer,col_indexer] = value instead\n",
      "\n",
      "See the caveats in the documentation: http://pandas.pydata.org/pandas-docs/stable/indexing.html#indexing-view-versus-copy\n",
      "  \"\"\"Entry point for launching an IPython kernel.\n",
      "//anaconda3/lib/python3.7/site-packages/ipykernel_launcher.py:2: SettingWithCopyWarning: \n",
      "A value is trying to be set on a copy of a slice from a DataFrame.\n",
      "Try using .loc[row_indexer,col_indexer] = value instead\n",
      "\n",
      "See the caveats in the documentation: http://pandas.pydata.org/pandas-docs/stable/indexing.html#indexing-view-versus-copy\n",
      "  \n"
     ]
    }
   ],
   "source": [
    "df_gilded['simplebody'] = df_gilded['body'].map(lambda x: simplify_text(x))\n",
    "df_gilded['num_wds'] = df_gilded['simplebody'].apply(lambda x: len(x.split()))\n",
    "print(\"Word Counts (Gilded Comments)\")\n",
    "print(\"Mean: \", df_gilded['num_wds'].mean(), \"Min: \", df_gilded['num_wds'].min(), \"Max: \", df_gilded['num_wds'].max())"
   ]
  },
  {
   "cell_type": "code",
   "execution_count": null,
   "metadata": {},
   "outputs": [],
   "source": []
  },
  {
   "cell_type": "code",
   "execution_count": 37,
   "metadata": {},
   "outputs": [
    {
     "data": {
      "image/png": "[encoded data removed]",
      "text/plain": [
       "<Figure size 864x720 with 1 Axes>"
      ]
     },
     "metadata": {
      "needs_background": "light"
     },
     "output_type": "display_data"
    }
   ],
   "source": [
    "ax=df['num_wds'].plot(kind='hist', bins=50, fontsize=14, figsize=(12,10))\n",
    "ax.set_title('Comment Length in Words\\n', fontsize=20)\n",
    "ax.set_ylabel('Frequency', fontsize=18)\n",
    "ax.set_xlabel('Number of Words', fontsize=18);"
   ]
  },
  {
   "cell_type": "code",
   "execution_count": 38,
   "metadata": {},
   "outputs": [
    {
     "data": {
      "image/png": "[encoded data removed]",
      "text/plain": [
       "<Figure size 864x720 with 1 Axes>"
      ]
     },
     "metadata": {
      "needs_background": "light"
     },
     "output_type": "display_data"
    }
   ],
   "source": [
    "ax=df_gilded['num_wds'].plot(kind='hist', bins=50, fontsize=14, figsize=(12,10))\n",
    "ax.set_title('Gilded Comment Length in Words\\n', fontsize=20)\n",
    "ax.set_ylabel('Frequency', fontsize=18)\n",
    "ax.set_xlabel('Number of Words', fontsize=18);"
   ]
  },
  {
   "cell_type": "code",
   "execution_count": 41,
   "metadata": {},
   "outputs": [],
   "source": [
    "wordcounts = np.array(df[\"num_wds\"])\n",
    "wordcounts_g = np.array(df_gilded[\"num_wds\"])"
   ]
  },
  {
   "cell_type": "code",
   "execution_count": 42,
   "metadata": {},
   "outputs": [
    {
     "data": {
      "text/plain": [
       "Ttest_indResult(statistic=-5.780463891372362, pvalue=7.862637227785603e-09)"
      ]
     },
     "execution_count": 42,
     "metadata": {},
     "output_type": "execute_result"
    }
   ],
   "source": [
    "# P-value below .05 indicates a significant difference in comment length\n",
    "stats.ttest_ind(wordcounts, wordcounts_g)"
   ]
  },
  {
   "cell_type": "code",
   "execution_count": null,
   "metadata": {},
   "outputs": [],
   "source": []
  }
 ],
 "metadata": {
  "kernelspec": {
   "display_name": "Python 3",
   "language": "python",
   "name": "python3"
  },
  "language_info": {
   "codemirror_mode": {
    "name": "ipython",
    "version": 3
   },
   "file_extension": ".py",
   "mimetype": "text/x-python",
   "name": "python",
   "nbconvert_exporter": "python",
   "pygments_lexer": "ipython3",
   "version": "3.7.3"
  }
 },
 "nbformat": 4,
 "nbformat_minor": 2
}
