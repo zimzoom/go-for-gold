{
 "cells": [
  {
   "cell_type": "code",
   "execution_count": 3,
   "metadata": {},
   "outputs": [],
   "source": [
    "import numpy as np\n",
    "import pandas as pd\n",
    "from sklearn.model_selection import train_test_split\n",
    "\n",
    "from sklearn.pipeline import Pipeline\n",
    "from sklearn.decomposition import TruncatedSVD\n",
    "from sklearn.feature_extraction.text import TfidfVectorizer"
   ]
  },
  {
   "cell_type": "code",
   "execution_count": 2,
   "metadata": {},
   "outputs": [],
   "source": [
    "df = pd.read_csv('data/askreddit_12.csv')\n",
    "df.loc[df['gilded'] >= 1, 'target'] = 1\n",
    "df.loc[df['gilded'] == 0, 'target'] = 0\n",
    "df['target'] = df['target'].astype(int)\n",
    "X = df['body'].tolist()\n",
    "y = df['target'].tolist()\n",
    "X_train, X_test, y_train, y_test = train_test_split(X, y, random_state=1, stratify=y)"
   ]
  },
  {
   "cell_type": "code",
   "execution_count": 4,
   "metadata": {},
   "outputs": [],
   "source": [
    "def identity(words):\n",
    "    return words\n",
    "\n",
    "def create_pipeline(estimator, reduction=False):\n",
    "\n",
    "    steps = [\n",
    "        ('normalize', TextNormalizer()),\n",
    "        ('vectorize', TfidfVectorizer(\n",
    "            tokenizer=identity, preprocessor=None, lowercase=False\n",
    "        ))\n",
    "    ]\n",
    "\n",
    "    if reduction:\n",
    "        steps.append((\n",
    "            'reduction', TruncatedSVD(n_components=10000)\n",
    "        ))\n",
    "\n",
    "    # Add the estimator\n",
    "    steps.append(('classifier', estimator))\n",
    "    return Pipeline(steps)"
   ]
  },
  {
   "cell_type": "code",
   "execution_count": null,
   "metadata": {},
   "outputs": [],
   "source": []
  }
 ],
 "metadata": {
  "kernelspec": {
   "display_name": "Python 3",
   "language": "python",
   "name": "python3"
  },
  "language_info": {
   "codemirror_mode": {
    "name": "ipython",
    "version": 3
   },
   "file_extension": ".py",
   "mimetype": "text/x-python",
   "name": "python",
   "nbconvert_exporter": "python",
   "pygments_lexer": "ipython3",
   "version": "3.7.3"
  }
 },
 "nbformat": 4,
 "nbformat_minor": 2
}
