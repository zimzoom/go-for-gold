{
 "cells": [
  {
   "cell_type": "code",
   "execution_count": 1,
   "metadata": {},
   "outputs": [],
   "source": [
    "import numpy as np\n",
    "import pandas as pd\n",
    "import os\n",
    "\n",
    "from nltk.collocations import QuadgramCollocationFinder\n",
    "from nltk.metrics.association import QuadgramAssocMeasures"
   ]
  },
  {
   "cell_type": "code",
   "execution_count": 2,
   "metadata": {},
   "outputs": [],
   "source": [
    "def rank_quadgrams(corpus, metric, path=None):\n",
    "    \"\"\"\n",
    "    Find and rank quadgrams from the supplied corpus using the given\n",
    "    association metric. Write the quadgrams out to the given path if\n",
    "    supplied otherwise return the list in memory.\n",
    "    \"\"\"\n",
    "    # Create a collocation ranking utility from corpus words.\n",
    "    ngrams = QuadgramCollocationFinder.from_words(corpus.words())\n",
    "\n",
    "    # Rank collocations by an association metric\n",
    "    scored = ngrams.score_ngrams(metric)\n",
    "\n",
    "    if path:\n",
    "        # Write to disk as tab-delimited file\n",
    "        with open(path, 'w') as f:\n",
    "            f.write(\"Collocation\\tScore ({})\".format(metric.__name__))\n",
    "            for ngram, score in scored:\n",
    "                f.write(\"{}\\t{}\\n\".format(repr(ngram), score))\n",
    "    else:\n",
    "        return scored\n",
    "    \n",
    "# rank_quadgrams(\n",
    "#     corpus, QuadgramAssocMeasures.likelihood_ratio, 'data/quadgrams.txt'\n",
    "# )"
   ]
  },
  {
   "cell_type": "code",
   "execution_count": 6,
   "metadata": {},
   "outputs": [],
   "source": [
    "from sklearn.base import BaseEstimator, TransformerMixin\n",
    "\n",
    "class SignificantCollocations(BaseEstimator, TransformerMixin):\n",
    "\n",
    "    def __init__(self,\n",
    "                 ngram_class=QuadgramCollocationFinder,\n",
    "                 metric=QuadgramAssocMeasures.pmi):\n",
    "        self.ngram_class = ngram_class\n",
    "        self.metric = metric\n",
    "\n",
    "    def fit(self, docs, target):\n",
    "        ngrams = self.ngram_class.from_documents(docs)\n",
    "        self.scored_ = dict(ngrams.score_ngrams(self.metric))\n",
    "\n",
    "    def transform(self, docs):\n",
    "        for doc in docs:\n",
    "            ngrams = self.ngram_class.from_words(docs)\n",
    "            yield {\n",
    "                ngram: self.scored_.get(ngram, 0.0)\n",
    "                for ngram in ngrams.nbest(QuadgramAssocMeasures.raw_freq, 50)\n",
    "            }"
   ]
  },
  {
   "cell_type": "code",
   "execution_count": null,
   "metadata": {},
   "outputs": [],
   "source": [
    "from sklearn.linear_model import SGDClassifier\n",
    "from sklearn.pipeline import Pipeline, FeatureUnion\n",
    "from sklearn.feature_extraction import DictVectorizer\n",
    "from sklearn.feature_extraction.text import TfidfVectorizer\n",
    "\n",
    "\n",
    "model4 = Pipeline([\n",
    "    ('tokenizer', GildPreprocessor()),\n",
    "    ('union', FeatureUnion(\n",
    "        transformer_list=[\n",
    "            ('ngrams', Pipeline([\n",
    "                ('sigcol', SignificantCollocations()),\n",
    "                ('dsigcol', DictVectorizer()),\n",
    "            ])),\n",
    "\n",
    "            ('tfidf', TfidfVectorizer()),\n",
    "        ]\n",
    "    )),\n",
    "\n",
    "    ('clf', SGDClassifier()),\n",
    "])\n",
    "\n",
    "## Fit throws error: AttributeError: 'NoneType' object has no attribute 'transform'"
   ]
  }
 ],
 "metadata": {
  "kernelspec": {
   "display_name": "Python 3",
   "language": "python",
   "name": "python3"
  },
  "language_info": {
   "codemirror_mode": {
    "name": "ipython",
    "version": 3
   },
   "file_extension": ".py",
   "mimetype": "text/x-python",
   "name": "python",
   "nbconvert_exporter": "python",
   "pygments_lexer": "ipython3",
   "version": "3.7.3"
  }
 },
 "nbformat": 4,
 "nbformat_minor": 2
}
