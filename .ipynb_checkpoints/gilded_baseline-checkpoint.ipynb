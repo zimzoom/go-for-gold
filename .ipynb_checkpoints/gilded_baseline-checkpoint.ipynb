{
 "cells": [
  {
   "cell_type": "code",
   "execution_count": 1,
   "metadata": {},
   "outputs": [],
   "source": [
    "import numpy as np\n",
    "import pandas as pd\n",
    "from nltk.tokenize import word_tokenize, wordpunct_tokenize, RegexpTokenizer\n",
    "from sklearn.feature_extraction.text import CountVectorizer, TfidfVectorizer\n",
    "from nltk.stem.snowball import SnowballStemmer\n",
    "from sklearn import preprocessing\n",
    "from sklearn.model_selection import train_test_split\n",
    "from sklearn.naive_bayes import MultinomialNB as SKMultinomialNB"
   ]
  },
  {
   "cell_type": "code",
   "execution_count": 2,
   "metadata": {},
   "outputs": [],
   "source": [
    "df = pd.read_csv('data/askreddit_12.csv')"
   ]
  },
  {
   "cell_type": "code",
   "execution_count": 3,
   "metadata": {},
   "outputs": [
    {
     "data": {
      "text/html": [
       "<div>\n",
       "<style scoped>\n",
       "    .dataframe tbody tr th:only-of-type {\n",
       "        vertical-align: middle;\n",
       "    }\n",
       "\n",
       "    .dataframe tbody tr th {\n",
       "        vertical-align: top;\n",
       "    }\n",
       "\n",
       "    .dataframe thead th {\n",
       "        text-align: right;\n",
       "    }\n",
       "</style>\n",
       "<table border=\"1\" class=\"dataframe\">\n",
       "  <thead>\n",
       "    <tr style=\"text-align: right;\">\n",
       "      <th></th>\n",
       "      <th>id</th>\n",
       "      <th>parent_id</th>\n",
       "      <th>link_id</th>\n",
       "      <th>gilded</th>\n",
       "      <th>author</th>\n",
       "      <th>created</th>\n",
       "      <th>is_submitter</th>\n",
       "      <th>permalink</th>\n",
       "      <th>score</th>\n",
       "      <th>body</th>\n",
       "      <th>question</th>\n",
       "    </tr>\n",
       "  </thead>\n",
       "  <tbody>\n",
       "    <tr>\n",
       "      <th>0</th>\n",
       "      <td>ed1czme</td>\n",
       "      <td>t3_ablzuq</td>\n",
       "      <td>t3_ablzuq</td>\n",
       "      <td>0</td>\n",
       "      <td>sweatybeard</td>\n",
       "      <td>1.546379e+09</td>\n",
       "      <td>False</td>\n",
       "      <td>/r/AskReddit/comments/ablzuq/people_who_havent...</td>\n",
       "      <td>12174</td>\n",
       "      <td>But when I finally do, it'll be the years bigg...</td>\n",
       "      <td>People who haven't pooped in 2019 yet, why are...</td>\n",
       "    </tr>\n",
       "    <tr>\n",
       "      <th>1</th>\n",
       "      <td>ed1d2z7</td>\n",
       "      <td>t3_ablzuq</td>\n",
       "      <td>t3_ablzuq</td>\n",
       "      <td>1</td>\n",
       "      <td>ButtholeLinoleum</td>\n",
       "      <td>1.546379e+09</td>\n",
       "      <td>False</td>\n",
       "      <td>/r/AskReddit/comments/ablzuq/people_who_havent...</td>\n",
       "      <td>14251</td>\n",
       "      <td>I've been pissing out my ass all fuckin day.</td>\n",
       "      <td>People who haven't pooped in 2019 yet, why are...</td>\n",
       "    </tr>\n",
       "    <tr>\n",
       "      <th>2</th>\n",
       "      <td>ed1emmi</td>\n",
       "      <td>t3_ablzuq</td>\n",
       "      <td>t3_ablzuq</td>\n",
       "      <td>0</td>\n",
       "      <td>abksploder</td>\n",
       "      <td>1.546380e+09</td>\n",
       "      <td>False</td>\n",
       "      <td>/r/AskReddit/comments/ablzuq/people_who_havent...</td>\n",
       "      <td>34840</td>\n",
       "      <td>Bold of you to assume I'm going to take a shit...</td>\n",
       "      <td>People who haven't pooped in 2019 yet, why are...</td>\n",
       "    </tr>\n",
       "    <tr>\n",
       "      <th>3</th>\n",
       "      <td>ed1dhh6</td>\n",
       "      <td>t3_ablzuq</td>\n",
       "      <td>t3_ablzuq</td>\n",
       "      <td>0</td>\n",
       "      <td>adsadsadsadsads</td>\n",
       "      <td>1.546379e+09</td>\n",
       "      <td>False</td>\n",
       "      <td>/r/AskReddit/comments/ablzuq/people_who_havent...</td>\n",
       "      <td>19264</td>\n",
       "      <td>We have guests and I literally can't relax.</td>\n",
       "      <td>People who haven't pooped in 2019 yet, why are...</td>\n",
       "    </tr>\n",
       "    <tr>\n",
       "      <th>4</th>\n",
       "      <td>ed1dqvy</td>\n",
       "      <td>t3_ablzuq</td>\n",
       "      <td>t3_ablzuq</td>\n",
       "      <td>2</td>\n",
       "      <td>KixStar</td>\n",
       "      <td>1.546379e+09</td>\n",
       "      <td>False</td>\n",
       "      <td>/r/AskReddit/comments/ablzuq/people_who_havent...</td>\n",
       "      <td>35929</td>\n",
       "      <td>I caught a diarrhea stomach bug and have been ...</td>\n",
       "      <td>People who haven't pooped in 2019 yet, why are...</td>\n",
       "    </tr>\n",
       "  </tbody>\n",
       "</table>\n",
       "</div>"
      ],
      "text/plain": [
       "        id  parent_id    link_id  gilded            author       created  \\\n",
       "0  ed1czme  t3_ablzuq  t3_ablzuq       0       sweatybeard  1.546379e+09   \n",
       "1  ed1d2z7  t3_ablzuq  t3_ablzuq       1  ButtholeLinoleum  1.546379e+09   \n",
       "2  ed1emmi  t3_ablzuq  t3_ablzuq       0        abksploder  1.546380e+09   \n",
       "3  ed1dhh6  t3_ablzuq  t3_ablzuq       0   adsadsadsadsads  1.546379e+09   \n",
       "4  ed1dqvy  t3_ablzuq  t3_ablzuq       2           KixStar  1.546379e+09   \n",
       "\n",
       "   is_submitter                                          permalink  score  \\\n",
       "0         False  /r/AskReddit/comments/ablzuq/people_who_havent...  12174   \n",
       "1         False  /r/AskReddit/comments/ablzuq/people_who_havent...  14251   \n",
       "2         False  /r/AskReddit/comments/ablzuq/people_who_havent...  34840   \n",
       "3         False  /r/AskReddit/comments/ablzuq/people_who_havent...  19264   \n",
       "4         False  /r/AskReddit/comments/ablzuq/people_who_havent...  35929   \n",
       "\n",
       "                                                body  \\\n",
       "0  But when I finally do, it'll be the years bigg...   \n",
       "1       I've been pissing out my ass all fuckin day.   \n",
       "2  Bold of you to assume I'm going to take a shit...   \n",
       "3        We have guests and I literally can't relax.   \n",
       "4  I caught a diarrhea stomach bug and have been ...   \n",
       "\n",
       "                                            question  \n",
       "0  People who haven't pooped in 2019 yet, why are...  \n",
       "1  People who haven't pooped in 2019 yet, why are...  \n",
       "2  People who haven't pooped in 2019 yet, why are...  \n",
       "3  People who haven't pooped in 2019 yet, why are...  \n",
       "4  People who haven't pooped in 2019 yet, why are...  "
      ]
     },
     "execution_count": 3,
     "metadata": {},
     "output_type": "execute_result"
    }
   ],
   "source": [
    "df.head()"
   ]
  },
  {
   "cell_type": "code",
   "execution_count": 5,
   "metadata": {},
   "outputs": [
    {
     "data": {
      "text/plain": [
       "(50, 82272)"
      ]
     },
     "execution_count": 5,
     "metadata": {},
     "output_type": "execute_result"
    }
   ],
   "source": [
    "(df['gilded'] >= 1).sum(), len(df)"
   ]
  },
  {
   "cell_type": "code",
   "execution_count": 6,
   "metadata": {},
   "outputs": [
    {
     "data": {
      "text/plain": [
       "(2636, 82272)"
      ]
     },
     "execution_count": 6,
     "metadata": {},
     "output_type": "execute_result"
    }
   ],
   "source": [
    "(df['score'] < 0).sum(), len(df)"
   ]
  },
  {
   "cell_type": "code",
   "execution_count": 7,
   "metadata": {},
   "outputs": [
    {
     "data": {
      "text/plain": [
       "(3194, 82272)"
      ]
     },
     "execution_count": 7,
     "metadata": {},
     "output_type": "execute_result"
    }
   ],
   "source": [
    "(df['score'] == 0).sum(), len(df)"
   ]
  },
  {
   "cell_type": "code",
   "execution_count": 13,
   "metadata": {},
   "outputs": [],
   "source": [
    "df.loc[df['gilded'] >= 1, 'target'] = 1\n",
    "df.loc[df['gilded'] == 0, 'target'] = 0"
   ]
  },
  {
   "cell_type": "code",
   "execution_count": 14,
   "metadata": {},
   "outputs": [
    {
     "data": {
      "text/html": [
       "<div>\n",
       "<style scoped>\n",
       "    .dataframe tbody tr th:only-of-type {\n",
       "        vertical-align: middle;\n",
       "    }\n",
       "\n",
       "    .dataframe tbody tr th {\n",
       "        vertical-align: top;\n",
       "    }\n",
       "\n",
       "    .dataframe thead th {\n",
       "        text-align: right;\n",
       "    }\n",
       "</style>\n",
       "<table border=\"1\" class=\"dataframe\">\n",
       "  <thead>\n",
       "    <tr style=\"text-align: right;\">\n",
       "      <th></th>\n",
       "      <th>id</th>\n",
       "      <th>parent_id</th>\n",
       "      <th>link_id</th>\n",
       "      <th>gilded</th>\n",
       "      <th>author</th>\n",
       "      <th>created</th>\n",
       "      <th>is_submitter</th>\n",
       "      <th>permalink</th>\n",
       "      <th>score</th>\n",
       "      <th>body</th>\n",
       "      <th>question</th>\n",
       "      <th>target</th>\n",
       "    </tr>\n",
       "  </thead>\n",
       "  <tbody>\n",
       "    <tr>\n",
       "      <th>0</th>\n",
       "      <td>ed1czme</td>\n",
       "      <td>t3_ablzuq</td>\n",
       "      <td>t3_ablzuq</td>\n",
       "      <td>0</td>\n",
       "      <td>sweatybeard</td>\n",
       "      <td>1.546379e+09</td>\n",
       "      <td>False</td>\n",
       "      <td>/r/AskReddit/comments/ablzuq/people_who_havent...</td>\n",
       "      <td>12174</td>\n",
       "      <td>But when I finally do, it'll be the years bigg...</td>\n",
       "      <td>People who haven't pooped in 2019 yet, why are...</td>\n",
       "      <td>0.0</td>\n",
       "    </tr>\n",
       "    <tr>\n",
       "      <th>1</th>\n",
       "      <td>ed1d2z7</td>\n",
       "      <td>t3_ablzuq</td>\n",
       "      <td>t3_ablzuq</td>\n",
       "      <td>1</td>\n",
       "      <td>ButtholeLinoleum</td>\n",
       "      <td>1.546379e+09</td>\n",
       "      <td>False</td>\n",
       "      <td>/r/AskReddit/comments/ablzuq/people_who_havent...</td>\n",
       "      <td>14251</td>\n",
       "      <td>I've been pissing out my ass all fuckin day.</td>\n",
       "      <td>People who haven't pooped in 2019 yet, why are...</td>\n",
       "      <td>1.0</td>\n",
       "    </tr>\n",
       "    <tr>\n",
       "      <th>2</th>\n",
       "      <td>ed1emmi</td>\n",
       "      <td>t3_ablzuq</td>\n",
       "      <td>t3_ablzuq</td>\n",
       "      <td>0</td>\n",
       "      <td>abksploder</td>\n",
       "      <td>1.546380e+09</td>\n",
       "      <td>False</td>\n",
       "      <td>/r/AskReddit/comments/ablzuq/people_who_havent...</td>\n",
       "      <td>34840</td>\n",
       "      <td>Bold of you to assume I'm going to take a shit...</td>\n",
       "      <td>People who haven't pooped in 2019 yet, why are...</td>\n",
       "      <td>0.0</td>\n",
       "    </tr>\n",
       "    <tr>\n",
       "      <th>3</th>\n",
       "      <td>ed1dhh6</td>\n",
       "      <td>t3_ablzuq</td>\n",
       "      <td>t3_ablzuq</td>\n",
       "      <td>0</td>\n",
       "      <td>adsadsadsadsads</td>\n",
       "      <td>1.546379e+09</td>\n",
       "      <td>False</td>\n",
       "      <td>/r/AskReddit/comments/ablzuq/people_who_havent...</td>\n",
       "      <td>19264</td>\n",
       "      <td>We have guests and I literally can't relax.</td>\n",
       "      <td>People who haven't pooped in 2019 yet, why are...</td>\n",
       "      <td>0.0</td>\n",
       "    </tr>\n",
       "    <tr>\n",
       "      <th>4</th>\n",
       "      <td>ed1dqvy</td>\n",
       "      <td>t3_ablzuq</td>\n",
       "      <td>t3_ablzuq</td>\n",
       "      <td>2</td>\n",
       "      <td>KixStar</td>\n",
       "      <td>1.546379e+09</td>\n",
       "      <td>False</td>\n",
       "      <td>/r/AskReddit/comments/ablzuq/people_who_havent...</td>\n",
       "      <td>35929</td>\n",
       "      <td>I caught a diarrhea stomach bug and have been ...</td>\n",
       "      <td>People who haven't pooped in 2019 yet, why are...</td>\n",
       "      <td>1.0</td>\n",
       "    </tr>\n",
       "  </tbody>\n",
       "</table>\n",
       "</div>"
      ],
      "text/plain": [
       "        id  parent_id    link_id  gilded            author       created  \\\n",
       "0  ed1czme  t3_ablzuq  t3_ablzuq       0       sweatybeard  1.546379e+09   \n",
       "1  ed1d2z7  t3_ablzuq  t3_ablzuq       1  ButtholeLinoleum  1.546379e+09   \n",
       "2  ed1emmi  t3_ablzuq  t3_ablzuq       0        abksploder  1.546380e+09   \n",
       "3  ed1dhh6  t3_ablzuq  t3_ablzuq       0   adsadsadsadsads  1.546379e+09   \n",
       "4  ed1dqvy  t3_ablzuq  t3_ablzuq       2           KixStar  1.546379e+09   \n",
       "\n",
       "   is_submitter                                          permalink  score  \\\n",
       "0         False  /r/AskReddit/comments/ablzuq/people_who_havent...  12174   \n",
       "1         False  /r/AskReddit/comments/ablzuq/people_who_havent...  14251   \n",
       "2         False  /r/AskReddit/comments/ablzuq/people_who_havent...  34840   \n",
       "3         False  /r/AskReddit/comments/ablzuq/people_who_havent...  19264   \n",
       "4         False  /r/AskReddit/comments/ablzuq/people_who_havent...  35929   \n",
       "\n",
       "                                                body  \\\n",
       "0  But when I finally do, it'll be the years bigg...   \n",
       "1       I've been pissing out my ass all fuckin day.   \n",
       "2  Bold of you to assume I'm going to take a shit...   \n",
       "3        We have guests and I literally can't relax.   \n",
       "4  I caught a diarrhea stomach bug and have been ...   \n",
       "\n",
       "                                            question  target  \n",
       "0  People who haven't pooped in 2019 yet, why are...     0.0  \n",
       "1  People who haven't pooped in 2019 yet, why are...     1.0  \n",
       "2  People who haven't pooped in 2019 yet, why are...     0.0  \n",
       "3  People who haven't pooped in 2019 yet, why are...     0.0  \n",
       "4  People who haven't pooped in 2019 yet, why are...     1.0  "
      ]
     },
     "execution_count": 14,
     "metadata": {},
     "output_type": "execute_result"
    }
   ],
   "source": [
    "df.head()"
   ]
  },
  {
   "cell_type": "code",
   "execution_count": 15,
   "metadata": {},
   "outputs": [],
   "source": [
    "df['target'] = df['target'].astype(int)"
   ]
  },
  {
   "cell_type": "code",
   "execution_count": 16,
   "metadata": {},
   "outputs": [
    {
     "data": {
      "text/html": [
       "<div>\n",
       "<style scoped>\n",
       "    .dataframe tbody tr th:only-of-type {\n",
       "        vertical-align: middle;\n",
       "    }\n",
       "\n",
       "    .dataframe tbody tr th {\n",
       "        vertical-align: top;\n",
       "    }\n",
       "\n",
       "    .dataframe thead th {\n",
       "        text-align: right;\n",
       "    }\n",
       "</style>\n",
       "<table border=\"1\" class=\"dataframe\">\n",
       "  <thead>\n",
       "    <tr style=\"text-align: right;\">\n",
       "      <th></th>\n",
       "      <th>id</th>\n",
       "      <th>parent_id</th>\n",
       "      <th>link_id</th>\n",
       "      <th>gilded</th>\n",
       "      <th>author</th>\n",
       "      <th>created</th>\n",
       "      <th>is_submitter</th>\n",
       "      <th>permalink</th>\n",
       "      <th>score</th>\n",
       "      <th>body</th>\n",
       "      <th>question</th>\n",
       "      <th>target</th>\n",
       "    </tr>\n",
       "  </thead>\n",
       "  <tbody>\n",
       "    <tr>\n",
       "      <th>0</th>\n",
       "      <td>ed1czme</td>\n",
       "      <td>t3_ablzuq</td>\n",
       "      <td>t3_ablzuq</td>\n",
       "      <td>0</td>\n",
       "      <td>sweatybeard</td>\n",
       "      <td>1.546379e+09</td>\n",
       "      <td>False</td>\n",
       "      <td>/r/AskReddit/comments/ablzuq/people_who_havent...</td>\n",
       "      <td>12174</td>\n",
       "      <td>But when I finally do, it'll be the years bigg...</td>\n",
       "      <td>People who haven't pooped in 2019 yet, why are...</td>\n",
       "      <td>0</td>\n",
       "    </tr>\n",
       "    <tr>\n",
       "      <th>1</th>\n",
       "      <td>ed1d2z7</td>\n",
       "      <td>t3_ablzuq</td>\n",
       "      <td>t3_ablzuq</td>\n",
       "      <td>1</td>\n",
       "      <td>ButtholeLinoleum</td>\n",
       "      <td>1.546379e+09</td>\n",
       "      <td>False</td>\n",
       "      <td>/r/AskReddit/comments/ablzuq/people_who_havent...</td>\n",
       "      <td>14251</td>\n",
       "      <td>I've been pissing out my ass all fuckin day.</td>\n",
       "      <td>People who haven't pooped in 2019 yet, why are...</td>\n",
       "      <td>1</td>\n",
       "    </tr>\n",
       "    <tr>\n",
       "      <th>2</th>\n",
       "      <td>ed1emmi</td>\n",
       "      <td>t3_ablzuq</td>\n",
       "      <td>t3_ablzuq</td>\n",
       "      <td>0</td>\n",
       "      <td>abksploder</td>\n",
       "      <td>1.546380e+09</td>\n",
       "      <td>False</td>\n",
       "      <td>/r/AskReddit/comments/ablzuq/people_who_havent...</td>\n",
       "      <td>34840</td>\n",
       "      <td>Bold of you to assume I'm going to take a shit...</td>\n",
       "      <td>People who haven't pooped in 2019 yet, why are...</td>\n",
       "      <td>0</td>\n",
       "    </tr>\n",
       "    <tr>\n",
       "      <th>3</th>\n",
       "      <td>ed1dhh6</td>\n",
       "      <td>t3_ablzuq</td>\n",
       "      <td>t3_ablzuq</td>\n",
       "      <td>0</td>\n",
       "      <td>adsadsadsadsads</td>\n",
       "      <td>1.546379e+09</td>\n",
       "      <td>False</td>\n",
       "      <td>/r/AskReddit/comments/ablzuq/people_who_havent...</td>\n",
       "      <td>19264</td>\n",
       "      <td>We have guests and I literally can't relax.</td>\n",
       "      <td>People who haven't pooped in 2019 yet, why are...</td>\n",
       "      <td>0</td>\n",
       "    </tr>\n",
       "    <tr>\n",
       "      <th>4</th>\n",
       "      <td>ed1dqvy</td>\n",
       "      <td>t3_ablzuq</td>\n",
       "      <td>t3_ablzuq</td>\n",
       "      <td>2</td>\n",
       "      <td>KixStar</td>\n",
       "      <td>1.546379e+09</td>\n",
       "      <td>False</td>\n",
       "      <td>/r/AskReddit/comments/ablzuq/people_who_havent...</td>\n",
       "      <td>35929</td>\n",
       "      <td>I caught a diarrhea stomach bug and have been ...</td>\n",
       "      <td>People who haven't pooped in 2019 yet, why are...</td>\n",
       "      <td>1</td>\n",
       "    </tr>\n",
       "  </tbody>\n",
       "</table>\n",
       "</div>"
      ],
      "text/plain": [
       "        id  parent_id    link_id  gilded            author       created  \\\n",
       "0  ed1czme  t3_ablzuq  t3_ablzuq       0       sweatybeard  1.546379e+09   \n",
       "1  ed1d2z7  t3_ablzuq  t3_ablzuq       1  ButtholeLinoleum  1.546379e+09   \n",
       "2  ed1emmi  t3_ablzuq  t3_ablzuq       0        abksploder  1.546380e+09   \n",
       "3  ed1dhh6  t3_ablzuq  t3_ablzuq       0   adsadsadsadsads  1.546379e+09   \n",
       "4  ed1dqvy  t3_ablzuq  t3_ablzuq       2           KixStar  1.546379e+09   \n",
       "\n",
       "   is_submitter                                          permalink  score  \\\n",
       "0         False  /r/AskReddit/comments/ablzuq/people_who_havent...  12174   \n",
       "1         False  /r/AskReddit/comments/ablzuq/people_who_havent...  14251   \n",
       "2         False  /r/AskReddit/comments/ablzuq/people_who_havent...  34840   \n",
       "3         False  /r/AskReddit/comments/ablzuq/people_who_havent...  19264   \n",
       "4         False  /r/AskReddit/comments/ablzuq/people_who_havent...  35929   \n",
       "\n",
       "                                                body  \\\n",
       "0  But when I finally do, it'll be the years bigg...   \n",
       "1       I've been pissing out my ass all fuckin day.   \n",
       "2  Bold of you to assume I'm going to take a shit...   \n",
       "3        We have guests and I literally can't relax.   \n",
       "4  I caught a diarrhea stomach bug and have been ...   \n",
       "\n",
       "                                            question  target  \n",
       "0  People who haven't pooped in 2019 yet, why are...       0  \n",
       "1  People who haven't pooped in 2019 yet, why are...       1  \n",
       "2  People who haven't pooped in 2019 yet, why are...       0  \n",
       "3  People who haven't pooped in 2019 yet, why are...       0  \n",
       "4  People who haven't pooped in 2019 yet, why are...       1  "
      ]
     },
     "execution_count": 16,
     "metadata": {},
     "output_type": "execute_result"
    }
   ],
   "source": [
    "df.head()"
   ]
  },
  {
   "cell_type": "code",
   "execution_count": 17,
   "metadata": {},
   "outputs": [],
   "source": [
    "X = df['body'].tolist()\n",
    "y = df['target'].tolist()"
   ]
  },
  {
   "cell_type": "code",
   "execution_count": 18,
   "metadata": {},
   "outputs": [],
   "source": [
    "X_train, X_test, y_train, y_test = train_test_split(X, y, random_state=1, stratify=y)"
   ]
  },
  {
   "cell_type": "code",
   "execution_count": 19,
   "metadata": {},
   "outputs": [],
   "source": [
    "def my_tokenizer(doc):\n",
    "    tokenizer = RegexpTokenizer(r'\\w+')\n",
    "    article_tokens = tokenizer.tokenize(doc.lower())\n",
    "    return article_tokens"
   ]
  },
  {
   "cell_type": "code",
   "execution_count": 20,
   "metadata": {},
   "outputs": [],
   "source": [
    "cv = CountVectorizer(tokenizer=my_tokenizer)\n",
    "X_tr_vec = cv.fit_transform(X_train)\n",
    "X_te_vec = cv.transform(X_test)"
   ]
  },
  {
   "cell_type": "code",
   "execution_count": 21,
   "metadata": {},
   "outputs": [
    {
     "data": {
      "text/plain": [
       "MultinomialNB(alpha=1.0, class_prior=None, fit_prior=True)"
      ]
     },
     "execution_count": 21,
     "metadata": {},
     "output_type": "execute_result"
    }
   ],
   "source": [
    "mnb = SKMultinomialNB()\n",
    "mnb.fit(X_tr_vec, y_train)"
   ]
  },
  {
   "cell_type": "code",
   "execution_count": 22,
   "metadata": {},
   "outputs": [
    {
     "data": {
      "text/plain": [
       "0.9894010112796577"
      ]
     },
     "execution_count": 22,
     "metadata": {},
     "output_type": "execute_result"
    }
   ],
   "source": [
    "#Test Accuracy\n",
    "mnb.score(X_te_vec, y_test)"
   ]
  },
  {
   "cell_type": "code",
   "execution_count": null,
   "metadata": {},
   "outputs": [],
   "source": []
  }
 ],
 "metadata": {
  "kernelspec": {
   "display_name": "Python 3",
   "language": "python",
   "name": "python3"
  },
  "language_info": {
   "codemirror_mode": {
    "name": "ipython",
    "version": 3
   },
   "file_extension": ".py",
   "mimetype": "text/x-python",
   "name": "python",
   "nbconvert_exporter": "python",
   "pygments_lexer": "ipython3",
   "version": "3.7.3"
  }
 },
 "nbformat": 4,
 "nbformat_minor": 2
}
