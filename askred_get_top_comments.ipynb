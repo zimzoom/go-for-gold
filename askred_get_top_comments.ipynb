{
 "cells": [
  {
   "cell_type": "code",
   "execution_count": 1,
   "metadata": {},
   "outputs": [],
   "source": [
    "import praw\n",
    "import pandas as pd\n",
    "import datetime as dt\n",
    "import pprint"
   ]
  },
  {
   "cell_type": "code",
   "execution_count": 2,
   "metadata": {},
   "outputs": [],
   "source": [
    "client_id = 'UO79QSYxu2ujuw'\n",
    "client_secret = 'XRfPWRnRN0O2Wfpwmf-frAgGAmA'\n",
    "user_agent = 'Private school project reading public info only (by u/wiltnotwither)'"
   ]
  },
  {
   "cell_type": "code",
   "execution_count": 3,
   "metadata": {},
   "outputs": [],
   "source": [
    "reddit = praw.Reddit(client_id=client_id, client_secret=client_secret, user_agent=user_agent)"
   ]
  },
  {
   "cell_type": "code",
   "execution_count": 4,
   "metadata": {},
   "outputs": [],
   "source": [
    "gild_dict = { \"id\":[],\n",
    "    \"parent_id\":[],\n",
    "    \"link_id\":[],\n",
    "    \"gilded\":[],\n",
    "    \"author\":[],\n",
    "    \"created\":[],\n",
    "    \"is_submitter\":[],\n",
    "    \"permalink\":[],\n",
    "    \"score\":[],\n",
    "    \"body\":[],\n",
    "    \"question\":[] }"
   ]
  },
  {
   "cell_type": "code",
   "execution_count": 5,
   "metadata": {},
   "outputs": [],
   "source": [
    "askreddit = reddit.subreddit('askreddit')"
   ]
  },
  {
   "cell_type": "code",
   "execution_count": null,
   "metadata": {},
   "outputs": [
    {
     "name": "stdout",
     "output_type": "stream",
     "text": [
      "Submission no.  1\n",
      "Got 100!\n",
      "Submission no.  2\n",
      "Got 100!\n",
      "Submission no.  3\n",
      "Got 100!\n",
      "Submission no.  4\n",
      "Got 100!\n",
      "Submission no.  5\n",
      "Got 100!\n",
      "Submission no.  6\n"
     ]
    }
   ],
   "source": [
    "counter = 0\n",
    "for submission in askreddit.top(limit=500):\n",
    "    counter += 1\n",
    "    comment_counter = 0\n",
    "    print(\"Submission no. \", counter)\n",
    "    question = submission.title\n",
    "    submission.comments.replace_more(limit=None)\n",
    "    for comment in list(submission.comments):\n",
    "        comment_counter += 1\n",
    "        gild_dict[\"id\"].append(comment.id) if comment.id else gild_dict[\"id\"].append(\"None\")\n",
    "        gild_dict[\"parent_id\"].append(comment.parent_id) if comment.parent_id else gild_dict[\"parent_id\"].append(\"None\")\n",
    "        gild_dict[\"link_id\"].append(comment.link_id) if comment.link_id else gild_dict[\"link_id\"].append(\"None\")\n",
    "        gild_dict[\"gilded\"].append(comment.gilded) \n",
    "        gild_dict[\"author\"].append(comment.author) if comment.author else gild_dict[\"author\"].append(\"None\")\n",
    "        gild_dict[\"created\"].append(comment.created_utc) if comment.created_utc else gild_dict[\"created_utc\"].append(\"None\")\n",
    "        gild_dict[\"is_submitter\"].append(comment.is_submitter) \n",
    "        gild_dict[\"permalink\"].append(comment.permalink) if comment.permalink else gild_dict[\"permalink\"].append(\"None\")\n",
    "        gild_dict[\"score\"].append(comment.score)\n",
    "        gild_dict[\"body\"].append(comment.body) if comment.body else gild_dict[\"body\"].append(\"None\")\n",
    "        gild_dict[\"question\"].append(question)\n",
    "        if comment_counter >= 100:\n",
    "            print(\"Got 100!\")\n",
    "            break"
   ]
  },
  {
   "cell_type": "code",
   "execution_count": 10,
   "metadata": {},
   "outputs": [],
   "source": [
    "df_tops = pd.DataFrame(gild_dict)"
   ]
  },
  {
   "cell_type": "code",
   "execution_count": 11,
   "metadata": {},
   "outputs": [
    {
     "data": {
      "text/plain": [
       "1000"
      ]
     },
     "execution_count": 11,
     "metadata": {},
     "output_type": "execute_result"
    }
   ],
   "source": [
    "len(df_tops)"
   ]
  },
  {
   "cell_type": "code",
   "execution_count": 12,
   "metadata": {},
   "outputs": [
    {
     "data": {
      "text/plain": [
       "39"
      ]
     },
     "execution_count": 12,
     "metadata": {},
     "output_type": "execute_result"
    }
   ],
   "source": [
    "(df_tops['gilded'] >= 1).sum()"
   ]
  },
  {
   "cell_type": "code",
   "execution_count": 14,
   "metadata": {},
   "outputs": [
    {
     "data": {
      "text/plain": [
       "0.039"
      ]
     },
     "execution_count": 14,
     "metadata": {},
     "output_type": "execute_result"
    }
   ],
   "source": [
    "39/1000"
   ]
  },
  {
   "cell_type": "code",
   "execution_count": 16,
   "metadata": {},
   "outputs": [],
   "source": [
    "df_tops.to_csv('data/askreddit_tops.csv', index=False)"
   ]
  },
  {
   "cell_type": "code",
   "execution_count": null,
   "metadata": {},
   "outputs": [],
   "source": []
  }
 ],
 "metadata": {
  "kernelspec": {
   "display_name": "Python 3",
   "language": "python",
   "name": "python3"
  },
  "language_info": {
   "codemirror_mode": {
    "name": "ipython",
    "version": 3
   },
   "file_extension": ".py",
   "mimetype": "text/x-python",
   "name": "python",
   "nbconvert_exporter": "python",
   "pygments_lexer": "ipython3",
   "version": "3.7.3"
  }
 },
 "nbformat": 4,
 "nbformat_minor": 2
}
