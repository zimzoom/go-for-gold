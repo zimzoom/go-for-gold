{
 "cells": [
  {
   "cell_type": "code",
   "execution_count": 21,
   "metadata": {},
   "outputs": [],
   "source": [
    "import praw\n",
    "import pandas as pd\n",
    "import datetime as dt\n",
    "import pprint"
   ]
  },
  {
   "cell_type": "code",
   "execution_count": 22,
   "metadata": {},
   "outputs": [],
   "source": [
    "client_id = 'UO79QSYxu2ujuw'\n",
    "client_secret = 'XRfPWRnRN0O2Wfpwmf-frAgGAmA'\n",
    "user_agent = 'Private school project reading public info only (by u/wiltnotwither)'"
   ]
  },
  {
   "cell_type": "code",
   "execution_count": 23,
   "metadata": {},
   "outputs": [],
   "source": [
    "reddit = praw.Reddit(client_id=client_id, client_secret=client_secret, user_agent=user_agent)"
   ]
  },
  {
   "cell_type": "code",
   "execution_count": 24,
   "metadata": {},
   "outputs": [],
   "source": [
    "gild_dict = { \"id\":[],\n",
    "    \"parent_id\":[],\n",
    "    \"link_id\":[],\n",
    "    \"gilded\":[],\n",
    "    \"author\":[],\n",
    "    \"created\":[],\n",
    "    \"is_submitter\":[],\n",
    "    \"permalink\":[],\n",
    "    \"score\":[],\n",
    "    \"body\":[],\n",
    "    \"topic\":[] }"
   ]
  },
  {
   "cell_type": "markdown",
   "metadata": {},
   "source": [
    "## AskReddit"
   ]
  },
  {
   "cell_type": "code",
   "execution_count": 6,
   "metadata": {},
   "outputs": [],
   "source": [
    "askreddit = reddit.subreddit('askreddit')"
   ]
  },
  {
   "cell_type": "code",
   "execution_count": 10,
   "metadata": {},
   "outputs": [],
   "source": [
    "for submission in askreddit.hot(limit=5):\n",
    "    topic = submission.title\n",
    "    submission.comments.replace_more(limit=None)\n",
    "    for comment in list(submission.comments):\n",
    "        gild_dict[\"id\"].append(comment.id) if comment.id else gild_dict[\"id\"].append(\"None\")\n",
    "        gild_dict[\"parent_id\"].append(comment.parent_id) if comment.parent_id else gild_dict[\"parent_id\"].append(\"None\")\n",
    "        gild_dict[\"link_id\"].append(comment.link_id) if comment.link_id else gild_dict[\"link_id\"].append(\"None\")\n",
    "        gild_dict[\"gilded\"].append(comment.gilded) if comment.gilded else gild_dict[\"gilded\"].append(\"None\")\n",
    "        gild_dict[\"author\"].append(comment.author) if comment.author else gild_dict[\"author\"].append(\"None\")\n",
    "        gild_dict[\"created\"].append(comment.created_utc) if comment.created_utc else gild_dict[\"created_utc\"].append(\"None\")\n",
    "        gild_dict[\"is_submitter\"].append(comment.is_submitter) if comment.is_submitter else gild_dict[\"is_submitter\"].append(\"None\")\n",
    "        gild_dict[\"permalink\"].append(comment.permalink) if comment.permalink else gild_dict[\"permalink\"].append(\"None\")\n",
    "        gild_dict[\"score\"].append(comment.score) if comment.score else gild_dict[\"score\"].append(\"None\")\n",
    "        gild_dict[\"body\"].append(comment.body) if comment.body else gild_dict[\"body\"].append(\"None\")\n",
    "        gild_dict[\"topic\"].append(topic)"
   ]
  },
  {
   "cell_type": "code",
   "execution_count": 11,
   "metadata": {},
   "outputs": [],
   "source": [
    "df = pd.DataFrame(gild_dict)"
   ]
  },
  {
   "cell_type": "code",
   "execution_count": 12,
   "metadata": {},
   "outputs": [
    {
     "data": {
      "text/html": [
       "<div>\n",
       "<style scoped>\n",
       "    .dataframe tbody tr th:only-of-type {\n",
       "        vertical-align: middle;\n",
       "    }\n",
       "\n",
       "    .dataframe tbody tr th {\n",
       "        vertical-align: top;\n",
       "    }\n",
       "\n",
       "    .dataframe thead th {\n",
       "        text-align: right;\n",
       "    }\n",
       "</style>\n",
       "<table border=\"1\" class=\"dataframe\">\n",
       "  <thead>\n",
       "    <tr style=\"text-align: right;\">\n",
       "      <th></th>\n",
       "      <th>id</th>\n",
       "      <th>parent_id</th>\n",
       "      <th>link_id</th>\n",
       "      <th>gilded</th>\n",
       "      <th>author</th>\n",
       "      <th>created</th>\n",
       "      <th>is_submitter</th>\n",
       "      <th>permalink</th>\n",
       "      <th>score</th>\n",
       "      <th>body</th>\n",
       "      <th>topic</th>\n",
       "    </tr>\n",
       "  </thead>\n",
       "  <tbody>\n",
       "    <tr>\n",
       "      <th>0</th>\n",
       "      <td>f3snxvl</td>\n",
       "      <td>t3_di0g3m</td>\n",
       "      <td>t3_di0g3m</td>\n",
       "      <td>None</td>\n",
       "      <td>UltraMiner245</td>\n",
       "      <td>1.571106e+09</td>\n",
       "      <td>None</td>\n",
       "      <td>/r/AskReddit/comments/di0g3m/if_you_died_the_e...</td>\n",
       "      <td>869</td>\n",
       "      <td>Being blown up by the Vex</td>\n",
       "      <td>If you died the exact same way as the last tim...</td>\n",
       "    </tr>\n",
       "    <tr>\n",
       "      <th>1</th>\n",
       "      <td>f3sgewt</td>\n",
       "      <td>t3_di0g3m</td>\n",
       "      <td>t3_di0g3m</td>\n",
       "      <td>None</td>\n",
       "      <td>talibob</td>\n",
       "      <td>1.571102e+09</td>\n",
       "      <td>None</td>\n",
       "      <td>/r/AskReddit/comments/di0g3m/if_you_died_the_e...</td>\n",
       "      <td>1116</td>\n",
       "      <td>Getting punched in the face by an angry demon ...</td>\n",
       "      <td>If you died the exact same way as the last tim...</td>\n",
       "    </tr>\n",
       "    <tr>\n",
       "      <th>2</th>\n",
       "      <td>f3sh6qo</td>\n",
       "      <td>t3_di0g3m</td>\n",
       "      <td>t3_di0g3m</td>\n",
       "      <td>None</td>\n",
       "      <td>toastyhoodie</td>\n",
       "      <td>1.571103e+09</td>\n",
       "      <td>None</td>\n",
       "      <td>/r/AskReddit/comments/di0g3m/if_you_died_the_e...</td>\n",
       "      <td>2075</td>\n",
       "      <td>That damned lava in Mario Maker</td>\n",
       "      <td>If you died the exact same way as the last tim...</td>\n",
       "    </tr>\n",
       "    <tr>\n",
       "      <th>3</th>\n",
       "      <td>f3sjrei</td>\n",
       "      <td>t3_di0g3m</td>\n",
       "      <td>t3_di0g3m</td>\n",
       "      <td>None</td>\n",
       "      <td>eDwArDdOoMiNgToN</td>\n",
       "      <td>1.571104e+09</td>\n",
       "      <td>None</td>\n",
       "      <td>/r/AskReddit/comments/di0g3m/if_you_died_the_e...</td>\n",
       "      <td>691</td>\n",
       "      <td>Falling from space and burning up in a go kart...</td>\n",
       "      <td>If you died the exact same way as the last tim...</td>\n",
       "    </tr>\n",
       "    <tr>\n",
       "      <th>4</th>\n",
       "      <td>f3solw6</td>\n",
       "      <td>t3_di0g3m</td>\n",
       "      <td>t3_di0g3m</td>\n",
       "      <td>None</td>\n",
       "      <td>bumblehoneyb</td>\n",
       "      <td>1.571106e+09</td>\n",
       "      <td>None</td>\n",
       "      <td>/r/AskReddit/comments/di0g3m/if_you_died_the_e...</td>\n",
       "      <td>927</td>\n",
       "      <td>exhaustion from over-working myself in blind a...</td>\n",
       "      <td>If you died the exact same way as the last tim...</td>\n",
       "    </tr>\n",
       "  </tbody>\n",
       "</table>\n",
       "</div>"
      ],
      "text/plain": [
       "        id  parent_id    link_id gilded            author       created  \\\n",
       "0  f3snxvl  t3_di0g3m  t3_di0g3m   None     UltraMiner245  1.571106e+09   \n",
       "1  f3sgewt  t3_di0g3m  t3_di0g3m   None           talibob  1.571102e+09   \n",
       "2  f3sh6qo  t3_di0g3m  t3_di0g3m   None      toastyhoodie  1.571103e+09   \n",
       "3  f3sjrei  t3_di0g3m  t3_di0g3m   None  eDwArDdOoMiNgToN  1.571104e+09   \n",
       "4  f3solw6  t3_di0g3m  t3_di0g3m   None      bumblehoneyb  1.571106e+09   \n",
       "\n",
       "  is_submitter                                          permalink score  \\\n",
       "0         None  /r/AskReddit/comments/di0g3m/if_you_died_the_e...   869   \n",
       "1         None  /r/AskReddit/comments/di0g3m/if_you_died_the_e...  1116   \n",
       "2         None  /r/AskReddit/comments/di0g3m/if_you_died_the_e...  2075   \n",
       "3         None  /r/AskReddit/comments/di0g3m/if_you_died_the_e...   691   \n",
       "4         None  /r/AskReddit/comments/di0g3m/if_you_died_the_e...   927   \n",
       "\n",
       "                                                body  \\\n",
       "0                          Being blown up by the Vex   \n",
       "1  Getting punched in the face by an angry demon ...   \n",
       "2                    That damned lava in Mario Maker   \n",
       "3  Falling from space and burning up in a go kart...   \n",
       "4  exhaustion from over-working myself in blind a...   \n",
       "\n",
       "                                               topic  \n",
       "0  If you died the exact same way as the last tim...  \n",
       "1  If you died the exact same way as the last tim...  \n",
       "2  If you died the exact same way as the last tim...  \n",
       "3  If you died the exact same way as the last tim...  \n",
       "4  If you died the exact same way as the last tim...  "
      ]
     },
     "execution_count": 12,
     "metadata": {},
     "output_type": "execute_result"
    }
   ],
   "source": [
    "df.head()"
   ]
  },
  {
   "cell_type": "code",
   "execution_count": 13,
   "metadata": {},
   "outputs": [],
   "source": [
    "df.to_csv('data/askreddit.csv', index=False)"
   ]
  },
  {
   "cell_type": "code",
   "execution_count": 14,
   "metadata": {},
   "outputs": [
    {
     "data": {
      "text/plain": [
       "12169"
      ]
     },
     "execution_count": 14,
     "metadata": {},
     "output_type": "execute_result"
    }
   ],
   "source": [
    "len(df)"
   ]
  },
  {
   "cell_type": "markdown",
   "metadata": {},
   "source": [
    "## Convert 'created' col from utc to datetime"
   ]
  },
  {
   "cell_type": "code",
   "execution_count": 15,
   "metadata": {},
   "outputs": [],
   "source": [
    "def get_date(created):\n",
    "    return dt.datetime.fromtimestamp(created)"
   ]
  },
  {
   "cell_type": "code",
   "execution_count": 16,
   "metadata": {},
   "outputs": [],
   "source": [
    "# _timestamp = df[\"created\"].apply(get_date)\n",
    "# df = df.assign(timestamp = _timestamp)"
   ]
  },
  {
   "cell_type": "code",
   "execution_count": 18,
   "metadata": {},
   "outputs": [],
   "source": [
    "df[\"created\"] = df[\"created\"].apply(lambda x: get_date(x))"
   ]
  },
  {
   "cell_type": "code",
   "execution_count": 19,
   "metadata": {},
   "outputs": [
    {
     "data": {
      "text/html": [
       "<div>\n",
       "<style scoped>\n",
       "    .dataframe tbody tr th:only-of-type {\n",
       "        vertical-align: middle;\n",
       "    }\n",
       "\n",
       "    .dataframe tbody tr th {\n",
       "        vertical-align: top;\n",
       "    }\n",
       "\n",
       "    .dataframe thead th {\n",
       "        text-align: right;\n",
       "    }\n",
       "</style>\n",
       "<table border=\"1\" class=\"dataframe\">\n",
       "  <thead>\n",
       "    <tr style=\"text-align: right;\">\n",
       "      <th></th>\n",
       "      <th>id</th>\n",
       "      <th>parent_id</th>\n",
       "      <th>link_id</th>\n",
       "      <th>gilded</th>\n",
       "      <th>author</th>\n",
       "      <th>created</th>\n",
       "      <th>is_submitter</th>\n",
       "      <th>permalink</th>\n",
       "      <th>score</th>\n",
       "      <th>body</th>\n",
       "      <th>topic</th>\n",
       "      <th>timestamp</th>\n",
       "    </tr>\n",
       "  </thead>\n",
       "  <tbody>\n",
       "    <tr>\n",
       "      <th>0</th>\n",
       "      <td>f3snxvl</td>\n",
       "      <td>t3_di0g3m</td>\n",
       "      <td>t3_di0g3m</td>\n",
       "      <td>None</td>\n",
       "      <td>UltraMiner245</td>\n",
       "      <td>2019-10-14 21:18:17</td>\n",
       "      <td>None</td>\n",
       "      <td>/r/AskReddit/comments/di0g3m/if_you_died_the_e...</td>\n",
       "      <td>869</td>\n",
       "      <td>Being blown up by the Vex</td>\n",
       "      <td>If you died the exact same way as the last tim...</td>\n",
       "      <td>2019-10-14 21:18:17</td>\n",
       "    </tr>\n",
       "    <tr>\n",
       "      <th>1</th>\n",
       "      <td>f3sgewt</td>\n",
       "      <td>t3_di0g3m</td>\n",
       "      <td>t3_di0g3m</td>\n",
       "      <td>None</td>\n",
       "      <td>talibob</td>\n",
       "      <td>2019-10-14 20:20:25</td>\n",
       "      <td>None</td>\n",
       "      <td>/r/AskReddit/comments/di0g3m/if_you_died_the_e...</td>\n",
       "      <td>1116</td>\n",
       "      <td>Getting punched in the face by an angry demon ...</td>\n",
       "      <td>If you died the exact same way as the last tim...</td>\n",
       "      <td>2019-10-14 20:20:25</td>\n",
       "    </tr>\n",
       "    <tr>\n",
       "      <th>2</th>\n",
       "      <td>f3sh6qo</td>\n",
       "      <td>t3_di0g3m</td>\n",
       "      <td>t3_di0g3m</td>\n",
       "      <td>None</td>\n",
       "      <td>toastyhoodie</td>\n",
       "      <td>2019-10-14 20:26:19</td>\n",
       "      <td>None</td>\n",
       "      <td>/r/AskReddit/comments/di0g3m/if_you_died_the_e...</td>\n",
       "      <td>2075</td>\n",
       "      <td>That damned lava in Mario Maker</td>\n",
       "      <td>If you died the exact same way as the last tim...</td>\n",
       "      <td>2019-10-14 20:26:19</td>\n",
       "    </tr>\n",
       "    <tr>\n",
       "      <th>3</th>\n",
       "      <td>f3sjrei</td>\n",
       "      <td>t3_di0g3m</td>\n",
       "      <td>t3_di0g3m</td>\n",
       "      <td>None</td>\n",
       "      <td>eDwArDdOoMiNgToN</td>\n",
       "      <td>2019-10-14 20:46:19</td>\n",
       "      <td>None</td>\n",
       "      <td>/r/AskReddit/comments/di0g3m/if_you_died_the_e...</td>\n",
       "      <td>691</td>\n",
       "      <td>Falling from space and burning up in a go kart...</td>\n",
       "      <td>If you died the exact same way as the last tim...</td>\n",
       "      <td>2019-10-14 20:46:19</td>\n",
       "    </tr>\n",
       "    <tr>\n",
       "      <th>4</th>\n",
       "      <td>f3solw6</td>\n",
       "      <td>t3_di0g3m</td>\n",
       "      <td>t3_di0g3m</td>\n",
       "      <td>None</td>\n",
       "      <td>bumblehoneyb</td>\n",
       "      <td>2019-10-14 21:23:21</td>\n",
       "      <td>None</td>\n",
       "      <td>/r/AskReddit/comments/di0g3m/if_you_died_the_e...</td>\n",
       "      <td>927</td>\n",
       "      <td>exhaustion from over-working myself in blind a...</td>\n",
       "      <td>If you died the exact same way as the last tim...</td>\n",
       "      <td>2019-10-14 21:23:21</td>\n",
       "    </tr>\n",
       "  </tbody>\n",
       "</table>\n",
       "</div>"
      ],
      "text/plain": [
       "        id  parent_id    link_id gilded            author             created  \\\n",
       "0  f3snxvl  t3_di0g3m  t3_di0g3m   None     UltraMiner245 2019-10-14 21:18:17   \n",
       "1  f3sgewt  t3_di0g3m  t3_di0g3m   None           talibob 2019-10-14 20:20:25   \n",
       "2  f3sh6qo  t3_di0g3m  t3_di0g3m   None      toastyhoodie 2019-10-14 20:26:19   \n",
       "3  f3sjrei  t3_di0g3m  t3_di0g3m   None  eDwArDdOoMiNgToN 2019-10-14 20:46:19   \n",
       "4  f3solw6  t3_di0g3m  t3_di0g3m   None      bumblehoneyb 2019-10-14 21:23:21   \n",
       "\n",
       "  is_submitter                                          permalink score  \\\n",
       "0         None  /r/AskReddit/comments/di0g3m/if_you_died_the_e...   869   \n",
       "1         None  /r/AskReddit/comments/di0g3m/if_you_died_the_e...  1116   \n",
       "2         None  /r/AskReddit/comments/di0g3m/if_you_died_the_e...  2075   \n",
       "3         None  /r/AskReddit/comments/di0g3m/if_you_died_the_e...   691   \n",
       "4         None  /r/AskReddit/comments/di0g3m/if_you_died_the_e...   927   \n",
       "\n",
       "                                                body  \\\n",
       "0                          Being blown up by the Vex   \n",
       "1  Getting punched in the face by an angry demon ...   \n",
       "2                    That damned lava in Mario Maker   \n",
       "3  Falling from space and burning up in a go kart...   \n",
       "4  exhaustion from over-working myself in blind a...   \n",
       "\n",
       "                                               topic           timestamp  \n",
       "0  If you died the exact same way as the last tim... 2019-10-14 21:18:17  \n",
       "1  If you died the exact same way as the last tim... 2019-10-14 20:20:25  \n",
       "2  If you died the exact same way as the last tim... 2019-10-14 20:26:19  \n",
       "3  If you died the exact same way as the last tim... 2019-10-14 20:46:19  \n",
       "4  If you died the exact same way as the last tim... 2019-10-14 21:23:21  "
      ]
     },
     "execution_count": 19,
     "metadata": {},
     "output_type": "execute_result"
    }
   ],
   "source": [
    "df.head()"
   ]
  },
  {
   "cell_type": "code",
   "execution_count": 20,
   "metadata": {},
   "outputs": [],
   "source": [
    "df.to_csv('data/askreddit_dt.csv', index=False)"
   ]
  },
  {
   "cell_type": "code",
   "execution_count": null,
   "metadata": {},
   "outputs": [],
   "source": []
  }
 ],
 "metadata": {
  "kernelspec": {
   "display_name": "Python 3",
   "language": "python",
   "name": "python3"
  },
  "language_info": {
   "codemirror_mode": {
    "name": "ipython",
    "version": 3
   },
   "file_extension": ".py",
   "mimetype": "text/x-python",
   "name": "python",
   "nbconvert_exporter": "python",
   "pygments_lexer": "ipython3",
   "version": "3.7.3"
  }
 },
 "nbformat": 4,
 "nbformat_minor": 2
}
