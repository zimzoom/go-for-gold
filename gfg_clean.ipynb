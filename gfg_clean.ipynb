{
 "cells": [
  {
   "cell_type": "code",
   "execution_count": 1,
   "metadata": {},
   "outputs": [],
   "source": [
    "import pandas as pd\n",
    "import numpy as np\n",
    "import datetime as dt"
   ]
  },
  {
   "cell_type": "code",
   "execution_count": 2,
   "metadata": {},
   "outputs": [],
   "source": [
    "def get_date(created):\n",
    "    return dt.datetime.fromtimestamp(created)"
   ]
  },
  {
   "cell_type": "code",
   "execution_count": 3,
   "metadata": {},
   "outputs": [],
   "source": [
    "df1 = pd.read_csv('data/askreddit_tops_15.csv')"
   ]
  },
  {
   "cell_type": "code",
   "execution_count": 4,
   "metadata": {},
   "outputs": [],
   "source": [
    "df2 = pd.read_csv('data/askreddit_tops_16_51.csv')"
   ]
  },
  {
   "cell_type": "markdown",
   "metadata": {},
   "source": [
    "## Merge data sets"
   ]
  },
  {
   "cell_type": "code",
   "execution_count": 5,
   "metadata": {},
   "outputs": [
    {
     "data": {
      "text/html": [
       "<div>\n",
       "<style scoped>\n",
       "    .dataframe tbody tr th:only-of-type {\n",
       "        vertical-align: middle;\n",
       "    }\n",
       "\n",
       "    .dataframe tbody tr th {\n",
       "        vertical-align: top;\n",
       "    }\n",
       "\n",
       "    .dataframe thead th {\n",
       "        text-align: right;\n",
       "    }\n",
       "</style>\n",
       "<table border=\"1\" class=\"dataframe\">\n",
       "  <thead>\n",
       "    <tr style=\"text-align: right;\">\n",
       "      <th></th>\n",
       "      <th>id</th>\n",
       "      <th>parent_id</th>\n",
       "      <th>link_id</th>\n",
       "      <th>gilded</th>\n",
       "      <th>author</th>\n",
       "      <th>created</th>\n",
       "      <th>is_submitter</th>\n",
       "      <th>permalink</th>\n",
       "      <th>score</th>\n",
       "      <th>body</th>\n",
       "      <th>question</th>\n",
       "    </tr>\n",
       "  </thead>\n",
       "  <tbody>\n",
       "    <tr>\n",
       "      <th>0</th>\n",
       "      <td>ed1czme</td>\n",
       "      <td>t3_ablzuq</td>\n",
       "      <td>t3_ablzuq</td>\n",
       "      <td>0</td>\n",
       "      <td>sweatybeard</td>\n",
       "      <td>1.546379e+09</td>\n",
       "      <td>False</td>\n",
       "      <td>/r/AskReddit/comments/ablzuq/people_who_havent...</td>\n",
       "      <td>12169</td>\n",
       "      <td>But when I finally do, it'll be the years bigg...</td>\n",
       "      <td>People who haven't pooped in 2019 yet, why are...</td>\n",
       "    </tr>\n",
       "    <tr>\n",
       "      <th>1</th>\n",
       "      <td>ed1d2z7</td>\n",
       "      <td>t3_ablzuq</td>\n",
       "      <td>t3_ablzuq</td>\n",
       "      <td>1</td>\n",
       "      <td>ButtholeLinoleum</td>\n",
       "      <td>1.546379e+09</td>\n",
       "      <td>False</td>\n",
       "      <td>/r/AskReddit/comments/ablzuq/people_who_havent...</td>\n",
       "      <td>14259</td>\n",
       "      <td>I've been pissing out my ass all fuckin day.</td>\n",
       "      <td>People who haven't pooped in 2019 yet, why are...</td>\n",
       "    </tr>\n",
       "    <tr>\n",
       "      <th>2</th>\n",
       "      <td>ed1emmi</td>\n",
       "      <td>t3_ablzuq</td>\n",
       "      <td>t3_ablzuq</td>\n",
       "      <td>0</td>\n",
       "      <td>abksploder</td>\n",
       "      <td>1.546380e+09</td>\n",
       "      <td>False</td>\n",
       "      <td>/r/AskReddit/comments/ablzuq/people_who_havent...</td>\n",
       "      <td>34844</td>\n",
       "      <td>Bold of you to assume I'm going to take a shit...</td>\n",
       "      <td>People who haven't pooped in 2019 yet, why are...</td>\n",
       "    </tr>\n",
       "    <tr>\n",
       "      <th>3</th>\n",
       "      <td>ed1dhh6</td>\n",
       "      <td>t3_ablzuq</td>\n",
       "      <td>t3_ablzuq</td>\n",
       "      <td>0</td>\n",
       "      <td>adsadsadsadsads</td>\n",
       "      <td>1.546379e+09</td>\n",
       "      <td>False</td>\n",
       "      <td>/r/AskReddit/comments/ablzuq/people_who_havent...</td>\n",
       "      <td>19268</td>\n",
       "      <td>We have guests and I literally can't relax.</td>\n",
       "      <td>People who haven't pooped in 2019 yet, why are...</td>\n",
       "    </tr>\n",
       "    <tr>\n",
       "      <th>4</th>\n",
       "      <td>ed1dqvy</td>\n",
       "      <td>t3_ablzuq</td>\n",
       "      <td>t3_ablzuq</td>\n",
       "      <td>2</td>\n",
       "      <td>KixStar</td>\n",
       "      <td>1.546379e+09</td>\n",
       "      <td>False</td>\n",
       "      <td>/r/AskReddit/comments/ablzuq/people_who_havent...</td>\n",
       "      <td>35941</td>\n",
       "      <td>I caught a diarrhea stomach bug and have been ...</td>\n",
       "      <td>People who haven't pooped in 2019 yet, why are...</td>\n",
       "    </tr>\n",
       "  </tbody>\n",
       "</table>\n",
       "</div>"
      ],
      "text/plain": [
       "        id  parent_id    link_id  gilded            author       created  \\\n",
       "0  ed1czme  t3_ablzuq  t3_ablzuq       0       sweatybeard  1.546379e+09   \n",
       "1  ed1d2z7  t3_ablzuq  t3_ablzuq       1  ButtholeLinoleum  1.546379e+09   \n",
       "2  ed1emmi  t3_ablzuq  t3_ablzuq       0        abksploder  1.546380e+09   \n",
       "3  ed1dhh6  t3_ablzuq  t3_ablzuq       0   adsadsadsadsads  1.546379e+09   \n",
       "4  ed1dqvy  t3_ablzuq  t3_ablzuq       2           KixStar  1.546379e+09   \n",
       "\n",
       "   is_submitter                                          permalink  score  \\\n",
       "0         False  /r/AskReddit/comments/ablzuq/people_who_havent...  12169   \n",
       "1         False  /r/AskReddit/comments/ablzuq/people_who_havent...  14259   \n",
       "2         False  /r/AskReddit/comments/ablzuq/people_who_havent...  34844   \n",
       "3         False  /r/AskReddit/comments/ablzuq/people_who_havent...  19268   \n",
       "4         False  /r/AskReddit/comments/ablzuq/people_who_havent...  35941   \n",
       "\n",
       "                                                body  \\\n",
       "0  But when I finally do, it'll be the years bigg...   \n",
       "1       I've been pissing out my ass all fuckin day.   \n",
       "2  Bold of you to assume I'm going to take a shit...   \n",
       "3        We have guests and I literally can't relax.   \n",
       "4  I caught a diarrhea stomach bug and have been ...   \n",
       "\n",
       "                                            question  \n",
       "0  People who haven't pooped in 2019 yet, why are...  \n",
       "1  People who haven't pooped in 2019 yet, why are...  \n",
       "2  People who haven't pooped in 2019 yet, why are...  \n",
       "3  People who haven't pooped in 2019 yet, why are...  \n",
       "4  People who haven't pooped in 2019 yet, why are...  "
      ]
     },
     "execution_count": 5,
     "metadata": {},
     "output_type": "execute_result"
    }
   ],
   "source": [
    "df1.head()"
   ]
  },
  {
   "cell_type": "code",
   "execution_count": 6,
   "metadata": {},
   "outputs": [
    {
     "data": {
      "text/html": [
       "<div>\n",
       "<style scoped>\n",
       "    .dataframe tbody tr th:only-of-type {\n",
       "        vertical-align: middle;\n",
       "    }\n",
       "\n",
       "    .dataframe tbody tr th {\n",
       "        vertical-align: top;\n",
       "    }\n",
       "\n",
       "    .dataframe thead th {\n",
       "        text-align: right;\n",
       "    }\n",
       "</style>\n",
       "<table border=\"1\" class=\"dataframe\">\n",
       "  <thead>\n",
       "    <tr style=\"text-align: right;\">\n",
       "      <th></th>\n",
       "      <th>id</th>\n",
       "      <th>parent_id</th>\n",
       "      <th>link_id</th>\n",
       "      <th>gilded</th>\n",
       "      <th>author</th>\n",
       "      <th>created</th>\n",
       "      <th>is_submitter</th>\n",
       "      <th>permalink</th>\n",
       "      <th>score</th>\n",
       "      <th>body</th>\n",
       "      <th>question</th>\n",
       "    </tr>\n",
       "  </thead>\n",
       "  <tbody>\n",
       "    <tr>\n",
       "      <th>0</th>\n",
       "      <td>el6w5xg</td>\n",
       "      <td>t3_bekeb1</td>\n",
       "      <td>t3_bekeb1</td>\n",
       "      <td>1</td>\n",
       "      <td>babiferari</td>\n",
       "      <td>1.555600e+09</td>\n",
       "      <td>False</td>\n",
       "      <td>/r/AskReddit/comments/bekeb1/what_mindblowing_...</td>\n",
       "      <td>6328</td>\n",
       "      <td>Dogs can tell when your comming home by how mu...</td>\n",
       "      <td>What mind-blowing (but simple) facts would sat...</td>\n",
       "    </tr>\n",
       "    <tr>\n",
       "      <th>1</th>\n",
       "      <td>el6t0en</td>\n",
       "      <td>t3_bekeb1</td>\n",
       "      <td>t3_bekeb1</td>\n",
       "      <td>0</td>\n",
       "      <td>Lord_AdGnalDiv</td>\n",
       "      <td>1.555598e+09</td>\n",
       "      <td>False</td>\n",
       "      <td>/r/AskReddit/comments/bekeb1/what_mindblowing_...</td>\n",
       "      <td>2389</td>\n",
       "      <td>Most people have more than the average number ...</td>\n",
       "      <td>What mind-blowing (but simple) facts would sat...</td>\n",
       "    </tr>\n",
       "    <tr>\n",
       "      <th>2</th>\n",
       "      <td>el6qo0t</td>\n",
       "      <td>t3_bekeb1</td>\n",
       "      <td>t3_bekeb1</td>\n",
       "      <td>0</td>\n",
       "      <td>AmerisaurausRex</td>\n",
       "      <td>1.555597e+09</td>\n",
       "      <td>False</td>\n",
       "      <td>/r/AskReddit/comments/bekeb1/what_mindblowing_...</td>\n",
       "      <td>1328</td>\n",
       "      <td>A day on Venus takes longer to complete Than a...</td>\n",
       "      <td>What mind-blowing (but simple) facts would sat...</td>\n",
       "    </tr>\n",
       "    <tr>\n",
       "      <th>3</th>\n",
       "      <td>el6othd</td>\n",
       "      <td>t3_bekeb1</td>\n",
       "      <td>t3_bekeb1</td>\n",
       "      <td>1</td>\n",
       "      <td>CryoWreck</td>\n",
       "      <td>1.555595e+09</td>\n",
       "      <td>False</td>\n",
       "      <td>/r/AskReddit/comments/bekeb1/what_mindblowing_...</td>\n",
       "      <td>33609</td>\n",
       "      <td>Otters have skin pockets for their favorite rocks</td>\n",
       "      <td>What mind-blowing (but simple) facts would sat...</td>\n",
       "    </tr>\n",
       "    <tr>\n",
       "      <th>4</th>\n",
       "      <td>el6rgab</td>\n",
       "      <td>t3_bekeb1</td>\n",
       "      <td>t3_bekeb1</td>\n",
       "      <td>0</td>\n",
       "      <td>B3ximus</td>\n",
       "      <td>1.555597e+09</td>\n",
       "      <td>False</td>\n",
       "      <td>/r/AskReddit/comments/bekeb1/what_mindblowing_...</td>\n",
       "      <td>3271</td>\n",
       "      <td>The name for the Arctic comes from the ancient...</td>\n",
       "      <td>What mind-blowing (but simple) facts would sat...</td>\n",
       "    </tr>\n",
       "  </tbody>\n",
       "</table>\n",
       "</div>"
      ],
      "text/plain": [
       "        id  parent_id    link_id  gilded           author       created  \\\n",
       "0  el6w5xg  t3_bekeb1  t3_bekeb1       1       babiferari  1.555600e+09   \n",
       "1  el6t0en  t3_bekeb1  t3_bekeb1       0   Lord_AdGnalDiv  1.555598e+09   \n",
       "2  el6qo0t  t3_bekeb1  t3_bekeb1       0  AmerisaurausRex  1.555597e+09   \n",
       "3  el6othd  t3_bekeb1  t3_bekeb1       1        CryoWreck  1.555595e+09   \n",
       "4  el6rgab  t3_bekeb1  t3_bekeb1       0          B3ximus  1.555597e+09   \n",
       "\n",
       "   is_submitter                                          permalink  score  \\\n",
       "0         False  /r/AskReddit/comments/bekeb1/what_mindblowing_...   6328   \n",
       "1         False  /r/AskReddit/comments/bekeb1/what_mindblowing_...   2389   \n",
       "2         False  /r/AskReddit/comments/bekeb1/what_mindblowing_...   1328   \n",
       "3         False  /r/AskReddit/comments/bekeb1/what_mindblowing_...  33609   \n",
       "4         False  /r/AskReddit/comments/bekeb1/what_mindblowing_...   3271   \n",
       "\n",
       "                                                body  \\\n",
       "0  Dogs can tell when your comming home by how mu...   \n",
       "1  Most people have more than the average number ...   \n",
       "2  A day on Venus takes longer to complete Than a...   \n",
       "3  Otters have skin pockets for their favorite rocks   \n",
       "4  The name for the Arctic comes from the ancient...   \n",
       "\n",
       "                                            question  \n",
       "0  What mind-blowing (but simple) facts would sat...  \n",
       "1  What mind-blowing (but simple) facts would sat...  \n",
       "2  What mind-blowing (but simple) facts would sat...  \n",
       "3  What mind-blowing (but simple) facts would sat...  \n",
       "4  What mind-blowing (but simple) facts would sat...  "
      ]
     },
     "execution_count": 6,
     "metadata": {},
     "output_type": "execute_result"
    }
   ],
   "source": [
    "df2.head()"
   ]
  },
  {
   "cell_type": "code",
   "execution_count": 20,
   "metadata": {},
   "outputs": [
    {
     "name": "stdout",
     "output_type": "stream",
     "text": [
      "1500 3500\n"
     ]
    },
    {
     "data": {
      "text/plain": [
       "(15, 35)"
      ]
     },
     "execution_count": 20,
     "metadata": {},
     "output_type": "execute_result"
    }
   ],
   "source": [
    "# link_id refers to submission\n",
    "print(len(df1), len(df2))\n",
    "df1['link_id'].nunique(), df2['link_id'].nunique()"
   ]
  },
  {
   "cell_type": "code",
   "execution_count": 15,
   "metadata": {},
   "outputs": [
    {
     "data": {
      "text/plain": [
       "(link_id\n",
       " t3_70k2ya    100\n",
       " t3_80phz7    100\n",
       " t3_84anfy    100\n",
       " t3_8pks1u    100\n",
       " t3_99eh6b    100\n",
       " t3_9gx68l    100\n",
       " t3_9whgf4    100\n",
       " t3_a72nr4    100\n",
       " t3_ablzuq    100\n",
       " t3_ac9038    100\n",
       " t3_aicgpz    100\n",
       " t3_atn6h6    100\n",
       " t3_awmdb2    100\n",
       " t3_d0jjc2    100\n",
       " t3_dcxylq    100\n",
       " Name: id, dtype: int64, link_id\n",
       " t3_4nqnrm    100\n",
       " t3_6k0p7l    100\n",
       " t3_6ogsx8    100\n",
       " t3_7pblps    100\n",
       " t3_7rb2rh    100\n",
       " t3_7x639l    100\n",
       " t3_87wckw    100\n",
       " t3_99362t    100\n",
       " t3_9hef7a    100\n",
       " t3_a0a4cd    100\n",
       " t3_a0vt8e    100\n",
       " t3_af3x54    100\n",
       " t3_afzfa7    100\n",
       " t3_akbzuv    100\n",
       " t3_aqf3bi    100\n",
       " t3_aumhwo    100\n",
       " t3_awwcfb    100\n",
       " t3_b07rzr    100\n",
       " t3_b0ox0w    100\n",
       " t3_b2mzay    100\n",
       " t3_bc6skn    100\n",
       " t3_bekeb1    100\n",
       " t3_bhd99l    100\n",
       " t3_bn3bpz    100\n",
       " t3_cbm4z1    100\n",
       " t3_chm4um    100\n",
       " t3_cnhcty    100\n",
       " t3_co16i3    100\n",
       " t3_cpsi27    100\n",
       " t3_cuctl4    100\n",
       " t3_cy82ym    100\n",
       " t3_d5ye2u    100\n",
       " t3_d9fy8u    100\n",
       " t3_depwkk    100\n",
       " t3_dh3xew    100\n",
       " Name: id, dtype: int64)"
      ]
     },
     "execution_count": 15,
     "metadata": {},
     "output_type": "execute_result"
    }
   ],
   "source": [
    "# 100 top-level comments per submission\n",
    "df1.groupby('link_id')['id'].count(), df2.groupby('link_id')['id'].count()"
   ]
  },
  {
   "cell_type": "code",
   "execution_count": 16,
   "metadata": {},
   "outputs": [],
   "source": [
    "df = pd.concat([df1, df2])"
   ]
  },
  {
   "cell_type": "code",
   "execution_count": 21,
   "metadata": {},
   "outputs": [
    {
     "data": {
      "text/plain": [
       "(5000, 50)"
      ]
     },
     "execution_count": 21,
     "metadata": {},
     "output_type": "execute_result"
    }
   ],
   "source": [
    "# Result is top 100 top-level comments from top 50 submissions\n",
    "len(df), df['link_id'].nunique()"
   ]
  },
  {
   "cell_type": "markdown",
   "metadata": {},
   "source": [
    "## Columns clean-up"
   ]
  },
  {
   "cell_type": "code",
   "execution_count": 22,
   "metadata": {},
   "outputs": [],
   "source": [
    "# Convert 'created' column from UTC to datetime\n",
    "df[\"created\"] = df[\"created\"].apply(lambda x: get_date(x))"
   ]
  },
  {
   "cell_type": "code",
   "execution_count": 24,
   "metadata": {},
   "outputs": [],
   "source": [
    "# Create 'target' column to signal whether comment is gilded\n",
    "df.loc[df['gilded'] >= 1, 'target'] = 1\n",
    "df.loc[df['gilded'] == 0, 'target'] = 0\n",
    "df['target'] = df['target'].astype(int)"
   ]
  },
  {
   "cell_type": "code",
   "execution_count": 25,
   "metadata": {},
   "outputs": [
    {
     "data": {
      "text/html": [
       "<div>\n",
       "<style scoped>\n",
       "    .dataframe tbody tr th:only-of-type {\n",
       "        vertical-align: middle;\n",
       "    }\n",
       "\n",
       "    .dataframe tbody tr th {\n",
       "        vertical-align: top;\n",
       "    }\n",
       "\n",
       "    .dataframe thead th {\n",
       "        text-align: right;\n",
       "    }\n",
       "</style>\n",
       "<table border=\"1\" class=\"dataframe\">\n",
       "  <thead>\n",
       "    <tr style=\"text-align: right;\">\n",
       "      <th></th>\n",
       "      <th>id</th>\n",
       "      <th>parent_id</th>\n",
       "      <th>link_id</th>\n",
       "      <th>gilded</th>\n",
       "      <th>author</th>\n",
       "      <th>created</th>\n",
       "      <th>is_submitter</th>\n",
       "      <th>permalink</th>\n",
       "      <th>score</th>\n",
       "      <th>body</th>\n",
       "      <th>question</th>\n",
       "      <th>target</th>\n",
       "    </tr>\n",
       "  </thead>\n",
       "  <tbody>\n",
       "    <tr>\n",
       "      <th>0</th>\n",
       "      <td>ed1czme</td>\n",
       "      <td>t3_ablzuq</td>\n",
       "      <td>t3_ablzuq</td>\n",
       "      <td>0</td>\n",
       "      <td>sweatybeard</td>\n",
       "      <td>2019-01-01 15:35:24</td>\n",
       "      <td>False</td>\n",
       "      <td>/r/AskReddit/comments/ablzuq/people_who_havent...</td>\n",
       "      <td>12169</td>\n",
       "      <td>But when I finally do, it'll be the years bigg...</td>\n",
       "      <td>People who haven't pooped in 2019 yet, why are...</td>\n",
       "      <td>0</td>\n",
       "    </tr>\n",
       "    <tr>\n",
       "      <th>1</th>\n",
       "      <td>ed1d2z7</td>\n",
       "      <td>t3_ablzuq</td>\n",
       "      <td>t3_ablzuq</td>\n",
       "      <td>1</td>\n",
       "      <td>ButtholeLinoleum</td>\n",
       "      <td>2019-01-01 15:36:36</td>\n",
       "      <td>False</td>\n",
       "      <td>/r/AskReddit/comments/ablzuq/people_who_havent...</td>\n",
       "      <td>14259</td>\n",
       "      <td>I've been pissing out my ass all fuckin day.</td>\n",
       "      <td>People who haven't pooped in 2019 yet, why are...</td>\n",
       "      <td>1</td>\n",
       "    </tr>\n",
       "    <tr>\n",
       "      <th>2</th>\n",
       "      <td>ed1emmi</td>\n",
       "      <td>t3_ablzuq</td>\n",
       "      <td>t3_ablzuq</td>\n",
       "      <td>0</td>\n",
       "      <td>abksploder</td>\n",
       "      <td>2019-01-01 15:56:33</td>\n",
       "      <td>False</td>\n",
       "      <td>/r/AskReddit/comments/ablzuq/people_who_havent...</td>\n",
       "      <td>34844</td>\n",
       "      <td>Bold of you to assume I'm going to take a shit...</td>\n",
       "      <td>People who haven't pooped in 2019 yet, why are...</td>\n",
       "      <td>0</td>\n",
       "    </tr>\n",
       "    <tr>\n",
       "      <th>3</th>\n",
       "      <td>ed1dhh6</td>\n",
       "      <td>t3_ablzuq</td>\n",
       "      <td>t3_ablzuq</td>\n",
       "      <td>0</td>\n",
       "      <td>adsadsadsadsads</td>\n",
       "      <td>2019-01-01 15:41:49</td>\n",
       "      <td>False</td>\n",
       "      <td>/r/AskReddit/comments/ablzuq/people_who_havent...</td>\n",
       "      <td>19268</td>\n",
       "      <td>We have guests and I literally can't relax.</td>\n",
       "      <td>People who haven't pooped in 2019 yet, why are...</td>\n",
       "      <td>0</td>\n",
       "    </tr>\n",
       "    <tr>\n",
       "      <th>4</th>\n",
       "      <td>ed1dqvy</td>\n",
       "      <td>t3_ablzuq</td>\n",
       "      <td>t3_ablzuq</td>\n",
       "      <td>2</td>\n",
       "      <td>KixStar</td>\n",
       "      <td>2019-01-01 15:45:09</td>\n",
       "      <td>False</td>\n",
       "      <td>/r/AskReddit/comments/ablzuq/people_who_havent...</td>\n",
       "      <td>35941</td>\n",
       "      <td>I caught a diarrhea stomach bug and have been ...</td>\n",
       "      <td>People who haven't pooped in 2019 yet, why are...</td>\n",
       "      <td>1</td>\n",
       "    </tr>\n",
       "  </tbody>\n",
       "</table>\n",
       "</div>"
      ],
      "text/plain": [
       "        id  parent_id    link_id  gilded            author  \\\n",
       "0  ed1czme  t3_ablzuq  t3_ablzuq       0       sweatybeard   \n",
       "1  ed1d2z7  t3_ablzuq  t3_ablzuq       1  ButtholeLinoleum   \n",
       "2  ed1emmi  t3_ablzuq  t3_ablzuq       0        abksploder   \n",
       "3  ed1dhh6  t3_ablzuq  t3_ablzuq       0   adsadsadsadsads   \n",
       "4  ed1dqvy  t3_ablzuq  t3_ablzuq       2           KixStar   \n",
       "\n",
       "              created  is_submitter  \\\n",
       "0 2019-01-01 15:35:24         False   \n",
       "1 2019-01-01 15:36:36         False   \n",
       "2 2019-01-01 15:56:33         False   \n",
       "3 2019-01-01 15:41:49         False   \n",
       "4 2019-01-01 15:45:09         False   \n",
       "\n",
       "                                           permalink  score  \\\n",
       "0  /r/AskReddit/comments/ablzuq/people_who_havent...  12169   \n",
       "1  /r/AskReddit/comments/ablzuq/people_who_havent...  14259   \n",
       "2  /r/AskReddit/comments/ablzuq/people_who_havent...  34844   \n",
       "3  /r/AskReddit/comments/ablzuq/people_who_havent...  19268   \n",
       "4  /r/AskReddit/comments/ablzuq/people_who_havent...  35941   \n",
       "\n",
       "                                                body  \\\n",
       "0  But when I finally do, it'll be the years bigg...   \n",
       "1       I've been pissing out my ass all fuckin day.   \n",
       "2  Bold of you to assume I'm going to take a shit...   \n",
       "3        We have guests and I literally can't relax.   \n",
       "4  I caught a diarrhea stomach bug and have been ...   \n",
       "\n",
       "                                            question  target  \n",
       "0  People who haven't pooped in 2019 yet, why are...       0  \n",
       "1  People who haven't pooped in 2019 yet, why are...       1  \n",
       "2  People who haven't pooped in 2019 yet, why are...       0  \n",
       "3  People who haven't pooped in 2019 yet, why are...       0  \n",
       "4  People who haven't pooped in 2019 yet, why are...       1  "
      ]
     },
     "execution_count": 25,
     "metadata": {},
     "output_type": "execute_result"
    }
   ],
   "source": [
    "df.head()"
   ]
  },
  {
   "cell_type": "code",
   "execution_count": 26,
   "metadata": {},
   "outputs": [
    {
     "data": {
      "text/plain": [
       "0.0914"
      ]
     },
     "execution_count": 26,
     "metadata": {},
     "output_type": "execute_result"
    }
   ],
   "source": [
    "# Minority class is ~9% \n",
    "(df['target'] == 1).sum() / len(df)"
   ]
  },
  {
   "cell_type": "code",
   "execution_count": 27,
   "metadata": {},
   "outputs": [],
   "source": [
    "df.to_csv('data/askreddit_top_50.csv', index=False)"
   ]
  },
  {
   "cell_type": "code",
   "execution_count": null,
   "metadata": {},
   "outputs": [],
   "source": []
  }
 ],
 "metadata": {
  "kernelspec": {
   "display_name": "Python 3",
   "language": "python",
   "name": "python3"
  },
  "language_info": {
   "codemirror_mode": {
    "name": "ipython",
    "version": 3
   },
   "file_extension": ".py",
   "mimetype": "text/x-python",
   "name": "python",
   "nbconvert_exporter": "python",
   "pygments_lexer": "ipython3",
   "version": "3.7.3"
  }
 },
 "nbformat": 4,
 "nbformat_minor": 2
}
